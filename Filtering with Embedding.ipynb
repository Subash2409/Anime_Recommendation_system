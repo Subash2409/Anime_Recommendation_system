{
 "cells": [
  {
   "cell_type": "markdown",
   "id": "9307cb9a",
   "metadata": {
    "papermill": {
     "duration": 0.009443,
     "end_time": "2023-05-17T06:48:38.026747",
     "exception": false,
     "start_time": "2023-05-17T06:48:38.017304",
     "status": "completed"
    },
    "tags": []
   },
   "source": [
    "## **Collaborative Filtering**"
   ]
  },
  {
   "cell_type": "code",
   "execution_count": 1,
   "id": "956a05d3",
   "metadata": {
    "_kg_hide-input": false,
    "execution": {
     "iopub.execute_input": "2023-05-17T06:48:38.047439Z",
     "iopub.status.busy": "2023-05-17T06:48:38.046041Z",
     "iopub.status.idle": "2023-05-17T06:48:38.316268Z",
     "shell.execute_reply": "2023-05-17T06:48:38.315432Z"
    },
    "papermill": {
     "duration": 0.282686,
     "end_time": "2023-05-17T06:48:38.318463",
     "exception": false,
     "start_time": "2023-05-17T06:48:38.035777",
     "status": "completed"
    },
    "tags": []
   },
   "outputs": [
    {
     "name": "stdout",
     "output_type": "stream",
     "text": [
      " Volume in drive C is Windows-SSD\n",
      " Volume Serial Number is D272-C972\n",
      "\n",
      " Directory of C:\\Users\\subas\\anime-recommendation-database\n",
      "\n",
      "25/11/2023  15:04    <DIR>          .\n",
      "26/11/2023  16:55    <DIR>          ..\n",
      "25/11/2023  15:02         5,662,362 anime.csv\n",
      "25/11/2023  15:02     2,031,058,307 animelist.csv\n",
      "25/11/2023  15:02         7,221,844 anime_with_synopsis.csv\n",
      "25/11/2023  15:04    <DIR>          html folder\n",
      "25/11/2023  15:03       817,897,580 rating_complete.csv\n",
      "25/11/2023  15:03                88 watching_status.csv\n",
      "               5 File(s)  2,861,840,181 bytes\n",
      "               3 Dir(s)  336,103,428,096 bytes free\n"
     ]
    }
   ],
   "source": [
    "INPUT_DIR = 'anime-recommendation-database' # Set the input directory path\n",
    "!dir {INPUT_DIR} #Displays the contents of the directory"
   ]
  },
  {
   "cell_type": "code",
   "execution_count": 2,
   "id": "b5566043",
   "metadata": {
    "execution": {
     "iopub.execute_input": "2023-05-17T06:48:38.339330Z",
     "iopub.status.busy": "2023-05-17T06:48:38.338569Z",
     "iopub.status.idle": "2023-05-17T06:49:29.928353Z",
     "shell.execute_reply": "2023-05-17T06:49:29.926427Z"
    },
    "papermill": {
     "duration": 51.615822,
     "end_time": "2023-05-17T06:49:29.943399",
     "exception": false,
     "start_time": "2023-05-17T06:48:38.327577",
     "status": "completed"
    },
    "tags": []
   },
   "outputs": [
    {
     "data": {
      "text/html": [
       "<div>\n",
       "<style scoped>\n",
       "    .dataframe tbody tr th:only-of-type {\n",
       "        vertical-align: middle;\n",
       "    }\n",
       "\n",
       "    .dataframe tbody tr th {\n",
       "        vertical-align: top;\n",
       "    }\n",
       "\n",
       "    .dataframe thead th {\n",
       "        text-align: right;\n",
       "    }\n",
       "</style>\n",
       "<table border=\"1\" class=\"dataframe\">\n",
       "  <thead>\n",
       "    <tr style=\"text-align: right;\">\n",
       "      <th></th>\n",
       "      <th>user_id</th>\n",
       "      <th>anime_id</th>\n",
       "      <th>rating</th>\n",
       "    </tr>\n",
       "  </thead>\n",
       "  <tbody>\n",
       "    <tr>\n",
       "      <th>0</th>\n",
       "      <td>0</td>\n",
       "      <td>67</td>\n",
       "      <td>9</td>\n",
       "    </tr>\n",
       "    <tr>\n",
       "      <th>1</th>\n",
       "      <td>0</td>\n",
       "      <td>6702</td>\n",
       "      <td>7</td>\n",
       "    </tr>\n",
       "    <tr>\n",
       "      <th>2</th>\n",
       "      <td>0</td>\n",
       "      <td>242</td>\n",
       "      <td>10</td>\n",
       "    </tr>\n",
       "    <tr>\n",
       "      <th>3</th>\n",
       "      <td>0</td>\n",
       "      <td>4898</td>\n",
       "      <td>0</td>\n",
       "    </tr>\n",
       "  </tbody>\n",
       "</table>\n",
       "</div>"
      ],
      "text/plain": [
       "   user_id  anime_id  rating\n",
       "0        0        67       9\n",
       "1        0      6702       7\n",
       "2        0       242      10\n",
       "3        0      4898       0"
      ]
     },
     "execution_count": 2,
     "metadata": {},
     "output_type": "execute_result"
    }
   ],
   "source": [
    "# Imports necessary libraries\n",
    "import numpy as np\n",
    "import pandas as pd\n",
    "\n",
    "# Reads the 'animelist.csv' file into a pandas DataFrame\n",
    "rating_df = pd.read_csv(INPUT_DIR + '/animelist.csv', \n",
    "                        low_memory=False, \n",
    "                        usecols=[\"user_id\", \"anime_id\", \"rating\"]\n",
    "                        #, nrows=90000000\n",
    "                        )\n",
    "rating_df.head(4) #Displays the first 4 rows of the DataFrame"
   ]
  },
  {
   "cell_type": "code",
   "execution_count": 3,
   "id": "ebf40cb0",
   "metadata": {
    "execution": {
     "iopub.execute_input": "2023-05-17T06:49:29.965087Z",
     "iopub.status.busy": "2023-05-17T06:49:29.963939Z",
     "iopub.status.idle": "2023-05-17T06:49:33.572513Z",
     "shell.execute_reply": "2023-05-17T06:49:33.571594Z"
    },
    "papermill": {
     "duration": 3.621847,
     "end_time": "2023-05-17T06:49:33.574458",
     "exception": false,
     "start_time": "2023-05-17T06:49:29.952611",
     "status": "completed"
    },
    "tags": []
   },
   "outputs": [
    {
     "data": {
      "text/plain": [
       "71418114"
      ]
     },
     "execution_count": 3,
     "metadata": {},
     "output_type": "execute_result"
    }
   ],
   "source": [
    "# User should rate atleast 400 animies\n",
    "n_ratings = rating_df['user_id'].value_counts() # Counts the number of ratings per user\n",
    "rating_df = rating_df[rating_df['user_id'].isin(n_ratings[n_ratings >= 400].index)].copy() # Filters the DataFrame to include only users who have rated at least 400 anime\n",
    "len(rating_df) # Displays the length of the resulting DataFrame"
   ]
  },
  {
   "cell_type": "code",
   "execution_count": 4,
   "id": "73273500",
   "metadata": {
    "execution": {
     "iopub.execute_input": "2023-05-17T06:49:33.596159Z",
     "iopub.status.busy": "2023-05-17T06:49:33.594738Z",
     "iopub.status.idle": "2023-05-17T06:50:08.113763Z",
     "shell.execute_reply": "2023-05-17T06:50:08.112030Z"
    },
    "papermill": {
     "duration": 34.542908,
     "end_time": "2023-05-17T06:50:08.126850",
     "exception": false,
     "start_time": "2023-05-17T06:49:33.583942",
     "status": "completed"
    },
    "tags": []
   },
   "outputs": [
    {
     "name": "stdout",
     "output_type": "stream",
     "text": [
      "Avg 0.40477935891013467\n"
     ]
    }
   ],
   "source": [
    "# Finds the minimum and maximum ratings in the DataFrame\n",
    "min_rating = min(rating_df['rating'])\n",
    "max_rating = max(rating_df['rating'])\n",
    "# Scales the 'rating' column between 0 and 1\n",
    "rating_df['rating'] = rating_df[\"rating\"].apply(lambda x: (x - min_rating) / (max_rating - min_rating)).values.astype(np.float64)\n",
    "# Calculate the average rating\n",
    "AvgRating = np.mean(rating_df['rating'])\n",
    "print('Avg', AvgRating)"
   ]
  },
  {
   "cell_type": "code",
   "execution_count": 5,
   "id": "ab8b60fb",
   "metadata": {
    "execution": {
     "iopub.execute_input": "2023-05-17T06:50:08.152580Z",
     "iopub.status.busy": "2023-05-17T06:50:08.151685Z",
     "iopub.status.idle": "2023-05-17T06:50:52.525652Z",
     "shell.execute_reply": "2023-05-17T06:50:52.524219Z"
    },
    "papermill": {
     "duration": 44.398149,
     "end_time": "2023-05-17T06:50:52.536493",
     "exception": false,
     "start_time": "2023-05-17T06:50:08.138344",
     "status": "completed"
    },
    "tags": []
   },
   "outputs": [
    {
     "name": "stdout",
     "output_type": "stream",
     "text": [
      "> 1 duplicates\n",
      "> 0 duplicates\n"
     ]
    }
   ],
   "source": [
    "# Identifies duplicated rows in the DataFrame\n",
    "duplicates = rating_df.duplicated()\n",
    "# Checks if there are duplicates\n",
    "if duplicates.sum() > 0:\n",
    "    print('> {} duplicates'.format(duplicates.sum()))\n",
    "    # Removes duplicate rows\n",
    "    rating_df = rating_df[~duplicates]\n",
    "# Prints the number of duplicates after removal\n",
    "print('> {} duplicates'.format(rating_df.duplicated().sum()))"
   ]
  },
  {
   "cell_type": "code",
   "execution_count": 6,
   "id": "abbf7304",
   "metadata": {
    "_kg_hide-input": false,
    "execution": {
     "iopub.execute_input": "2023-05-17T06:50:52.578571Z",
     "iopub.status.busy": "2023-05-17T06:50:52.578148Z",
     "iopub.status.idle": "2023-05-17T06:50:57.347654Z",
     "shell.execute_reply": "2023-05-17T06:50:57.346407Z"
    },
    "papermill": {
     "duration": 4.783358,
     "end_time": "2023-05-17T06:50:57.349563",
     "exception": false,
     "start_time": "2023-05-17T06:50:52.566205",
     "status": "completed"
    },
    "tags": []
   },
   "outputs": [
    {
     "data": {
      "text/html": [
       "<div>\n",
       "<style scoped>\n",
       "    .dataframe tbody tr th:only-of-type {\n",
       "        vertical-align: middle;\n",
       "    }\n",
       "\n",
       "    .dataframe tbody tr th {\n",
       "        vertical-align: top;\n",
       "    }\n",
       "\n",
       "    .dataframe thead th {\n",
       "        text-align: right;\n",
       "    }\n",
       "</style>\n",
       "<table border=\"1\" class=\"dataframe\">\n",
       "  <thead>\n",
       "    <tr style=\"text-align: right;\">\n",
       "      <th>anime_id</th>\n",
       "      <th>226</th>\n",
       "      <th>1535</th>\n",
       "      <th>1575</th>\n",
       "      <th>2001</th>\n",
       "      <th>2167</th>\n",
       "      <th>4224</th>\n",
       "      <th>5081</th>\n",
       "      <th>5114</th>\n",
       "      <th>6547</th>\n",
       "      <th>6746</th>\n",
       "      <th>9253</th>\n",
       "      <th>9989</th>\n",
       "      <th>10620</th>\n",
       "      <th>11757</th>\n",
       "      <th>15809</th>\n",
       "      <th>16498</th>\n",
       "      <th>19815</th>\n",
       "      <th>20507</th>\n",
       "      <th>22319</th>\n",
       "      <th>30276</th>\n",
       "    </tr>\n",
       "    <tr>\n",
       "      <th>user_id</th>\n",
       "      <th></th>\n",
       "      <th></th>\n",
       "      <th></th>\n",
       "      <th></th>\n",
       "      <th></th>\n",
       "      <th></th>\n",
       "      <th></th>\n",
       "      <th></th>\n",
       "      <th></th>\n",
       "      <th></th>\n",
       "      <th></th>\n",
       "      <th></th>\n",
       "      <th></th>\n",
       "      <th></th>\n",
       "      <th></th>\n",
       "      <th></th>\n",
       "      <th></th>\n",
       "      <th></th>\n",
       "      <th></th>\n",
       "      <th></th>\n",
       "    </tr>\n",
       "  </thead>\n",
       "  <tbody>\n",
       "    <tr>\n",
       "      <th>20807</th>\n",
       "      <td>1.0</td>\n",
       "      <td>1.0</td>\n",
       "      <td>1.0</td>\n",
       "      <td>1.0</td>\n",
       "      <td>0.8</td>\n",
       "      <td>1.0</td>\n",
       "      <td>0.9</td>\n",
       "      <td>1.0</td>\n",
       "      <td>1.0</td>\n",
       "      <td>1.0</td>\n",
       "      <td>1.0</td>\n",
       "      <td>0.9</td>\n",
       "      <td>1.0</td>\n",
       "      <td>1.0</td>\n",
       "      <td>0.8</td>\n",
       "      <td>1.0</td>\n",
       "      <td>1.0</td>\n",
       "      <td>1.0</td>\n",
       "      <td>1.0</td>\n",
       "      <td>1.0</td>\n",
       "    </tr>\n",
       "    <tr>\n",
       "      <th>50485</th>\n",
       "      <td>0.0</td>\n",
       "      <td>0.6</td>\n",
       "      <td>1.0</td>\n",
       "      <td>1.0</td>\n",
       "      <td>0.9</td>\n",
       "      <td>1.0</td>\n",
       "      <td>1.0</td>\n",
       "      <td>1.0</td>\n",
       "      <td>1.0</td>\n",
       "      <td>0.9</td>\n",
       "      <td>1.0</td>\n",
       "      <td>0.9</td>\n",
       "      <td>0.6</td>\n",
       "      <td>1.0</td>\n",
       "      <td>1.0</td>\n",
       "      <td>0.9</td>\n",
       "      <td>1.0</td>\n",
       "      <td>1.0</td>\n",
       "      <td>1.0</td>\n",
       "      <td>0.8</td>\n",
       "    </tr>\n",
       "    <tr>\n",
       "      <th>63900</th>\n",
       "      <td>0.7</td>\n",
       "      <td>0.0</td>\n",
       "      <td>0.0</td>\n",
       "      <td>0.0</td>\n",
       "      <td>0.0</td>\n",
       "      <td>0.0</td>\n",
       "      <td>0.0</td>\n",
       "      <td>0.9</td>\n",
       "      <td>0.0</td>\n",
       "      <td>0.0</td>\n",
       "      <td>0.0</td>\n",
       "      <td>0.8</td>\n",
       "      <td>0.0</td>\n",
       "      <td>0.0</td>\n",
       "      <td>0.0</td>\n",
       "      <td>0.8</td>\n",
       "      <td>0.0</td>\n",
       "      <td>0.8</td>\n",
       "      <td>0.8</td>\n",
       "      <td>0.8</td>\n",
       "    </tr>\n",
       "    <tr>\n",
       "      <th>68042</th>\n",
       "      <td>0.8</td>\n",
       "      <td>1.0</td>\n",
       "      <td>0.9</td>\n",
       "      <td>1.0</td>\n",
       "      <td>0.7</td>\n",
       "      <td>0.9</td>\n",
       "      <td>1.0</td>\n",
       "      <td>0.9</td>\n",
       "      <td>0.7</td>\n",
       "      <td>0.8</td>\n",
       "      <td>0.9</td>\n",
       "      <td>0.8</td>\n",
       "      <td>0.4</td>\n",
       "      <td>0.4</td>\n",
       "      <td>0.6</td>\n",
       "      <td>0.9</td>\n",
       "      <td>0.3</td>\n",
       "      <td>0.2</td>\n",
       "      <td>0.5</td>\n",
       "      <td>0.9</td>\n",
       "    </tr>\n",
       "    <tr>\n",
       "      <th>85472</th>\n",
       "      <td>0.7</td>\n",
       "      <td>0.0</td>\n",
       "      <td>0.0</td>\n",
       "      <td>1.0</td>\n",
       "      <td>0.9</td>\n",
       "      <td>0.9</td>\n",
       "      <td>0.0</td>\n",
       "      <td>0.0</td>\n",
       "      <td>1.0</td>\n",
       "      <td>0.0</td>\n",
       "      <td>0.8</td>\n",
       "      <td>0.0</td>\n",
       "      <td>0.8</td>\n",
       "      <td>0.9</td>\n",
       "      <td>0.8</td>\n",
       "      <td>0.8</td>\n",
       "      <td>0.7</td>\n",
       "      <td>0.7</td>\n",
       "      <td>0.7</td>\n",
       "      <td>0.9</td>\n",
       "    </tr>\n",
       "    <tr>\n",
       "      <th>92529</th>\n",
       "      <td>0.9</td>\n",
       "      <td>0.9</td>\n",
       "      <td>1.0</td>\n",
       "      <td>1.0</td>\n",
       "      <td>0.0</td>\n",
       "      <td>0.8</td>\n",
       "      <td>0.0</td>\n",
       "      <td>0.9</td>\n",
       "      <td>0.9</td>\n",
       "      <td>0.0</td>\n",
       "      <td>1.0</td>\n",
       "      <td>0.0</td>\n",
       "      <td>0.8</td>\n",
       "      <td>0.9</td>\n",
       "      <td>0.8</td>\n",
       "      <td>0.9</td>\n",
       "      <td>0.9</td>\n",
       "      <td>0.8</td>\n",
       "      <td>0.8</td>\n",
       "      <td>1.0</td>\n",
       "    </tr>\n",
       "    <tr>\n",
       "      <th>122341</th>\n",
       "      <td>0.2</td>\n",
       "      <td>0.3</td>\n",
       "      <td>0.2</td>\n",
       "      <td>0.7</td>\n",
       "      <td>0.4</td>\n",
       "      <td>0.3</td>\n",
       "      <td>0.3</td>\n",
       "      <td>0.8</td>\n",
       "      <td>0.5</td>\n",
       "      <td>0.6</td>\n",
       "      <td>0.7</td>\n",
       "      <td>0.3</td>\n",
       "      <td>0.2</td>\n",
       "      <td>0.1</td>\n",
       "      <td>0.3</td>\n",
       "      <td>0.1</td>\n",
       "      <td>0.4</td>\n",
       "      <td>0.4</td>\n",
       "      <td>0.2</td>\n",
       "      <td>0.6</td>\n",
       "    </tr>\n",
       "    <tr>\n",
       "      <th>131988</th>\n",
       "      <td>0.0</td>\n",
       "      <td>0.0</td>\n",
       "      <td>0.0</td>\n",
       "      <td>0.0</td>\n",
       "      <td>0.0</td>\n",
       "      <td>0.0</td>\n",
       "      <td>0.0</td>\n",
       "      <td>0.0</td>\n",
       "      <td>0.0</td>\n",
       "      <td>0.0</td>\n",
       "      <td>0.0</td>\n",
       "      <td>0.0</td>\n",
       "      <td>0.0</td>\n",
       "      <td>0.0</td>\n",
       "      <td>0.0</td>\n",
       "      <td>0.0</td>\n",
       "      <td>0.0</td>\n",
       "      <td>0.0</td>\n",
       "      <td>0.0</td>\n",
       "      <td>0.0</td>\n",
       "    </tr>\n",
       "    <tr>\n",
       "      <th>140590</th>\n",
       "      <td>0.3</td>\n",
       "      <td>0.6</td>\n",
       "      <td>0.5</td>\n",
       "      <td>0.8</td>\n",
       "      <td>0.6</td>\n",
       "      <td>0.8</td>\n",
       "      <td>0.8</td>\n",
       "      <td>0.9</td>\n",
       "      <td>0.5</td>\n",
       "      <td>0.8</td>\n",
       "      <td>0.9</td>\n",
       "      <td>0.7</td>\n",
       "      <td>0.3</td>\n",
       "      <td>0.4</td>\n",
       "      <td>0.6</td>\n",
       "      <td>0.5</td>\n",
       "      <td>0.7</td>\n",
       "      <td>0.7</td>\n",
       "      <td>0.5</td>\n",
       "      <td>0.7</td>\n",
       "    </tr>\n",
       "    <tr>\n",
       "      <th>147331</th>\n",
       "      <td>0.0</td>\n",
       "      <td>0.0</td>\n",
       "      <td>0.0</td>\n",
       "      <td>0.0</td>\n",
       "      <td>0.0</td>\n",
       "      <td>0.0</td>\n",
       "      <td>0.0</td>\n",
       "      <td>0.0</td>\n",
       "      <td>0.0</td>\n",
       "      <td>0.0</td>\n",
       "      <td>0.0</td>\n",
       "      <td>0.0</td>\n",
       "      <td>0.0</td>\n",
       "      <td>0.0</td>\n",
       "      <td>0.0</td>\n",
       "      <td>0.0</td>\n",
       "      <td>0.0</td>\n",
       "      <td>0.0</td>\n",
       "      <td>0.0</td>\n",
       "      <td>0.0</td>\n",
       "    </tr>\n",
       "    <tr>\n",
       "      <th>162615</th>\n",
       "      <td>1.0</td>\n",
       "      <td>1.0</td>\n",
       "      <td>1.0</td>\n",
       "      <td>1.0</td>\n",
       "      <td>1.0</td>\n",
       "      <td>1.0</td>\n",
       "      <td>1.0</td>\n",
       "      <td>1.0</td>\n",
       "      <td>1.0</td>\n",
       "      <td>1.0</td>\n",
       "      <td>1.0</td>\n",
       "      <td>1.0</td>\n",
       "      <td>1.0</td>\n",
       "      <td>1.0</td>\n",
       "      <td>1.0</td>\n",
       "      <td>1.0</td>\n",
       "      <td>1.0</td>\n",
       "      <td>1.0</td>\n",
       "      <td>1.0</td>\n",
       "      <td>1.0</td>\n",
       "    </tr>\n",
       "    <tr>\n",
       "      <th>173716</th>\n",
       "      <td>0.8</td>\n",
       "      <td>0.9</td>\n",
       "      <td>1.0</td>\n",
       "      <td>0.8</td>\n",
       "      <td>1.0</td>\n",
       "      <td>0.8</td>\n",
       "      <td>0.8</td>\n",
       "      <td>1.0</td>\n",
       "      <td>0.8</td>\n",
       "      <td>0.9</td>\n",
       "      <td>1.0</td>\n",
       "      <td>0.9</td>\n",
       "      <td>0.8</td>\n",
       "      <td>0.8</td>\n",
       "      <td>0.8</td>\n",
       "      <td>0.8</td>\n",
       "      <td>1.0</td>\n",
       "      <td>0.8</td>\n",
       "      <td>0.6</td>\n",
       "      <td>1.0</td>\n",
       "    </tr>\n",
       "    <tr>\n",
       "      <th>189037</th>\n",
       "      <td>0.8</td>\n",
       "      <td>0.9</td>\n",
       "      <td>0.7</td>\n",
       "      <td>0.7</td>\n",
       "      <td>0.9</td>\n",
       "      <td>0.9</td>\n",
       "      <td>0.7</td>\n",
       "      <td>0.8</td>\n",
       "      <td>1.0</td>\n",
       "      <td>0.7</td>\n",
       "      <td>1.0</td>\n",
       "      <td>0.8</td>\n",
       "      <td>0.8</td>\n",
       "      <td>0.7</td>\n",
       "      <td>0.9</td>\n",
       "      <td>0.6</td>\n",
       "      <td>0.7</td>\n",
       "      <td>0.7</td>\n",
       "      <td>0.7</td>\n",
       "      <td>0.8</td>\n",
       "    </tr>\n",
       "    <tr>\n",
       "      <th>222150</th>\n",
       "      <td>0.8</td>\n",
       "      <td>1.0</td>\n",
       "      <td>1.0</td>\n",
       "      <td>0.0</td>\n",
       "      <td>0.9</td>\n",
       "      <td>0.0</td>\n",
       "      <td>0.8</td>\n",
       "      <td>1.0</td>\n",
       "      <td>0.8</td>\n",
       "      <td>0.9</td>\n",
       "      <td>1.0</td>\n",
       "      <td>0.8</td>\n",
       "      <td>0.4</td>\n",
       "      <td>0.4</td>\n",
       "      <td>0.7</td>\n",
       "      <td>0.8</td>\n",
       "      <td>0.5</td>\n",
       "      <td>0.0</td>\n",
       "      <td>0.0</td>\n",
       "      <td>0.0</td>\n",
       "    </tr>\n",
       "    <tr>\n",
       "      <th>252520</th>\n",
       "      <td>0.9</td>\n",
       "      <td>1.0</td>\n",
       "      <td>1.0</td>\n",
       "      <td>0.8</td>\n",
       "      <td>0.6</td>\n",
       "      <td>0.0</td>\n",
       "      <td>0.9</td>\n",
       "      <td>0.9</td>\n",
       "      <td>0.8</td>\n",
       "      <td>0.7</td>\n",
       "      <td>0.9</td>\n",
       "      <td>0.0</td>\n",
       "      <td>0.9</td>\n",
       "      <td>1.0</td>\n",
       "      <td>0.0</td>\n",
       "      <td>1.0</td>\n",
       "      <td>0.9</td>\n",
       "      <td>0.8</td>\n",
       "      <td>0.9</td>\n",
       "      <td>1.0</td>\n",
       "    </tr>\n",
       "    <tr>\n",
       "      <th>269633</th>\n",
       "      <td>0.0</td>\n",
       "      <td>0.0</td>\n",
       "      <td>0.0</td>\n",
       "      <td>0.0</td>\n",
       "      <td>0.0</td>\n",
       "      <td>0.0</td>\n",
       "      <td>0.0</td>\n",
       "      <td>0.0</td>\n",
       "      <td>0.0</td>\n",
       "      <td>0.0</td>\n",
       "      <td>0.0</td>\n",
       "      <td>0.0</td>\n",
       "      <td>0.0</td>\n",
       "      <td>0.0</td>\n",
       "      <td>0.0</td>\n",
       "      <td>0.0</td>\n",
       "      <td>0.0</td>\n",
       "      <td>0.0</td>\n",
       "      <td>0.0</td>\n",
       "      <td>0.0</td>\n",
       "    </tr>\n",
       "    <tr>\n",
       "      <th>281232</th>\n",
       "      <td>0.0</td>\n",
       "      <td>0.0</td>\n",
       "      <td>0.0</td>\n",
       "      <td>0.0</td>\n",
       "      <td>0.0</td>\n",
       "      <td>0.0</td>\n",
       "      <td>0.0</td>\n",
       "      <td>0.0</td>\n",
       "      <td>0.0</td>\n",
       "      <td>0.0</td>\n",
       "      <td>0.0</td>\n",
       "      <td>0.0</td>\n",
       "      <td>0.0</td>\n",
       "      <td>0.0</td>\n",
       "      <td>0.0</td>\n",
       "      <td>0.0</td>\n",
       "      <td>0.0</td>\n",
       "      <td>0.0</td>\n",
       "      <td>0.0</td>\n",
       "      <td>0.0</td>\n",
       "    </tr>\n",
       "    <tr>\n",
       "      <th>283786</th>\n",
       "      <td>0.9</td>\n",
       "      <td>1.0</td>\n",
       "      <td>0.9</td>\n",
       "      <td>0.8</td>\n",
       "      <td>0.7</td>\n",
       "      <td>0.5</td>\n",
       "      <td>0.9</td>\n",
       "      <td>0.9</td>\n",
       "      <td>0.7</td>\n",
       "      <td>0.8</td>\n",
       "      <td>0.9</td>\n",
       "      <td>0.8</td>\n",
       "      <td>0.8</td>\n",
       "      <td>0.9</td>\n",
       "      <td>0.9</td>\n",
       "      <td>0.9</td>\n",
       "      <td>0.8</td>\n",
       "      <td>0.8</td>\n",
       "      <td>0.8</td>\n",
       "      <td>0.9</td>\n",
       "    </tr>\n",
       "    <tr>\n",
       "      <th>297931</th>\n",
       "      <td>0.0</td>\n",
       "      <td>0.0</td>\n",
       "      <td>0.0</td>\n",
       "      <td>0.0</td>\n",
       "      <td>0.0</td>\n",
       "      <td>0.0</td>\n",
       "      <td>0.0</td>\n",
       "      <td>0.0</td>\n",
       "      <td>0.0</td>\n",
       "      <td>0.0</td>\n",
       "      <td>0.0</td>\n",
       "      <td>0.0</td>\n",
       "      <td>0.0</td>\n",
       "      <td>0.0</td>\n",
       "      <td>0.0</td>\n",
       "      <td>0.8</td>\n",
       "      <td>0.0</td>\n",
       "      <td>0.0</td>\n",
       "      <td>0.0</td>\n",
       "      <td>0.9</td>\n",
       "    </tr>\n",
       "    <tr>\n",
       "      <th>312302</th>\n",
       "      <td>0.9</td>\n",
       "      <td>1.0</td>\n",
       "      <td>0.9</td>\n",
       "      <td>0.9</td>\n",
       "      <td>0.9</td>\n",
       "      <td>0.8</td>\n",
       "      <td>0.8</td>\n",
       "      <td>1.0</td>\n",
       "      <td>0.7</td>\n",
       "      <td>0.8</td>\n",
       "      <td>1.0</td>\n",
       "      <td>0.9</td>\n",
       "      <td>0.7</td>\n",
       "      <td>0.9</td>\n",
       "      <td>0.9</td>\n",
       "      <td>0.8</td>\n",
       "      <td>0.8</td>\n",
       "      <td>1.0</td>\n",
       "      <td>0.9</td>\n",
       "      <td>0.8</td>\n",
       "    </tr>\n",
       "  </tbody>\n",
       "</table>\n",
       "</div>"
      ],
      "text/plain": [
       "anime_id  226    1535   1575   2001   2167   4224   5081   5114   6547   \\\n",
       "user_id                                                                   \n",
       "20807       1.0    1.0    1.0    1.0    0.8    1.0    0.9    1.0    1.0   \n",
       "50485       0.0    0.6    1.0    1.0    0.9    1.0    1.0    1.0    1.0   \n",
       "63900       0.7    0.0    0.0    0.0    0.0    0.0    0.0    0.9    0.0   \n",
       "68042       0.8    1.0    0.9    1.0    0.7    0.9    1.0    0.9    0.7   \n",
       "85472       0.7    0.0    0.0    1.0    0.9    0.9    0.0    0.0    1.0   \n",
       "92529       0.9    0.9    1.0    1.0    0.0    0.8    0.0    0.9    0.9   \n",
       "122341      0.2    0.3    0.2    0.7    0.4    0.3    0.3    0.8    0.5   \n",
       "131988      0.0    0.0    0.0    0.0    0.0    0.0    0.0    0.0    0.0   \n",
       "140590      0.3    0.6    0.5    0.8    0.6    0.8    0.8    0.9    0.5   \n",
       "147331      0.0    0.0    0.0    0.0    0.0    0.0    0.0    0.0    0.0   \n",
       "162615      1.0    1.0    1.0    1.0    1.0    1.0    1.0    1.0    1.0   \n",
       "173716      0.8    0.9    1.0    0.8    1.0    0.8    0.8    1.0    0.8   \n",
       "189037      0.8    0.9    0.7    0.7    0.9    0.9    0.7    0.8    1.0   \n",
       "222150      0.8    1.0    1.0    0.0    0.9    0.0    0.8    1.0    0.8   \n",
       "252520      0.9    1.0    1.0    0.8    0.6    0.0    0.9    0.9    0.8   \n",
       "269633      0.0    0.0    0.0    0.0    0.0    0.0    0.0    0.0    0.0   \n",
       "281232      0.0    0.0    0.0    0.0    0.0    0.0    0.0    0.0    0.0   \n",
       "283786      0.9    1.0    0.9    0.8    0.7    0.5    0.9    0.9    0.7   \n",
       "297931      0.0    0.0    0.0    0.0    0.0    0.0    0.0    0.0    0.0   \n",
       "312302      0.9    1.0    0.9    0.9    0.9    0.8    0.8    1.0    0.7   \n",
       "\n",
       "anime_id  6746   9253   9989   10620  11757  15809  16498  19815  20507  \\\n",
       "user_id                                                                   \n",
       "20807       1.0    1.0    0.9    1.0    1.0    0.8    1.0    1.0    1.0   \n",
       "50485       0.9    1.0    0.9    0.6    1.0    1.0    0.9    1.0    1.0   \n",
       "63900       0.0    0.0    0.8    0.0    0.0    0.0    0.8    0.0    0.8   \n",
       "68042       0.8    0.9    0.8    0.4    0.4    0.6    0.9    0.3    0.2   \n",
       "85472       0.0    0.8    0.0    0.8    0.9    0.8    0.8    0.7    0.7   \n",
       "92529       0.0    1.0    0.0    0.8    0.9    0.8    0.9    0.9    0.8   \n",
       "122341      0.6    0.7    0.3    0.2    0.1    0.3    0.1    0.4    0.4   \n",
       "131988      0.0    0.0    0.0    0.0    0.0    0.0    0.0    0.0    0.0   \n",
       "140590      0.8    0.9    0.7    0.3    0.4    0.6    0.5    0.7    0.7   \n",
       "147331      0.0    0.0    0.0    0.0    0.0    0.0    0.0    0.0    0.0   \n",
       "162615      1.0    1.0    1.0    1.0    1.0    1.0    1.0    1.0    1.0   \n",
       "173716      0.9    1.0    0.9    0.8    0.8    0.8    0.8    1.0    0.8   \n",
       "189037      0.7    1.0    0.8    0.8    0.7    0.9    0.6    0.7    0.7   \n",
       "222150      0.9    1.0    0.8    0.4    0.4    0.7    0.8    0.5    0.0   \n",
       "252520      0.7    0.9    0.0    0.9    1.0    0.0    1.0    0.9    0.8   \n",
       "269633      0.0    0.0    0.0    0.0    0.0    0.0    0.0    0.0    0.0   \n",
       "281232      0.0    0.0    0.0    0.0    0.0    0.0    0.0    0.0    0.0   \n",
       "283786      0.8    0.9    0.8    0.8    0.9    0.9    0.9    0.8    0.8   \n",
       "297931      0.0    0.0    0.0    0.0    0.0    0.0    0.8    0.0    0.0   \n",
       "312302      0.8    1.0    0.9    0.7    0.9    0.9    0.8    0.8    1.0   \n",
       "\n",
       "anime_id  22319  30276  \n",
       "user_id                 \n",
       "20807       1.0    1.0  \n",
       "50485       1.0    0.8  \n",
       "63900       0.8    0.8  \n",
       "68042       0.5    0.9  \n",
       "85472       0.7    0.9  \n",
       "92529       0.8    1.0  \n",
       "122341      0.2    0.6  \n",
       "131988      0.0    0.0  \n",
       "140590      0.5    0.7  \n",
       "147331      0.0    0.0  \n",
       "162615      1.0    1.0  \n",
       "173716      0.6    1.0  \n",
       "189037      0.7    0.8  \n",
       "222150      0.0    0.0  \n",
       "252520      0.9    1.0  \n",
       "269633      0.0    0.0  \n",
       "281232      0.0    0.0  \n",
       "283786      0.8    0.9  \n",
       "297931      0.0    0.9  \n",
       "312302      0.9    0.8  "
      ]
     },
     "execution_count": 6,
     "metadata": {},
     "output_type": "execute_result"
    }
   ],
   "source": [
    "# Counts the number of ratings per user\n",
    "g = rating_df.groupby('user_id')['rating'].count()\n",
    "\n",
    "# Select the top 20 users with the most ratings\n",
    "top_users = g.dropna().sort_values(ascending=False)[:20]\n",
    "\n",
    "# Join the top users with the original DataFrame\n",
    "top_r = rating_df.join(top_users, rsuffix='_r', how='inner', on='user_id')\n",
    "\n",
    "# Count the number of ratings per anime\n",
    "g = rating_df.groupby('anime_id')['rating'].count()\n",
    "\n",
    "# Select the top 20 anime with the most ratings\n",
    "top_animes = g.dropna().sort_values(ascending=False)[:20]\n",
    "\n",
    "# Join the top anime with the DataFrame containing the top users\n",
    "top_r = top_r.join(top_animes, rsuffix='_r', how='inner', on='anime_id')\n",
    "\n",
    "# Create a cross-tabulation of user ratings for the top users and top anime\n",
    "pd.crosstab(top_r.user_id, top_r.anime_id, top_r.rating, aggfunc=np.sum)"
   ]
  },
  {
   "cell_type": "markdown",
   "id": "fba03145",
   "metadata": {
    "papermill": {
     "duration": 0.012168,
     "end_time": "2023-05-17T06:50:57.372162",
     "exception": false,
     "start_time": "2023-05-17T06:50:57.359994",
     "status": "completed"
    },
    "tags": []
   },
   "source": [
    "## **Data Preprocessing**"
   ]
  },
  {
   "cell_type": "code",
   "execution_count": 7,
   "id": "a3517485",
   "metadata": {
    "execution": {
     "iopub.execute_input": "2023-05-17T06:50:57.395776Z",
     "iopub.status.busy": "2023-05-17T06:50:57.395043Z",
     "iopub.status.idle": "2023-05-17T06:51:13.071714Z",
     "shell.execute_reply": "2023-05-17T06:51:13.070598Z"
    },
    "papermill": {
     "duration": 15.691057,
     "end_time": "2023-05-17T06:51:13.073816",
     "exception": false,
     "start_time": "2023-05-17T06:50:57.382759",
     "status": "completed"
    },
    "tags": []
   },
   "outputs": [
    {
     "name": "stdout",
     "output_type": "stream",
     "text": [
      "Num of users: 91641, Num of animes: 17560\n",
      "Min rating: 0.0, Max rating: 1.0\n"
     ]
    }
   ],
   "source": [
    "# Encoding categorical data\n",
    "# Gets unique user IDs and create dictionaries for mapping\n",
    "user_ids = rating_df[\"user_id\"].unique().tolist()\n",
    "user2user_encoded = {x: i for i, x in enumerate(user_ids)}\n",
    "user_encoded2user = {i: x for i, x in enumerate(user_ids)}\n",
    "\n",
    "# Maps the encoded user IDs to a new 'user' column in the DataFrame\n",
    "rating_df[\"user\"] = rating_df[\"user_id\"].map(user2user_encoded)\n",
    "n_users = len(user2user_encoded)\n",
    "\n",
    "# Gets unique anime IDs and create dictionaries for mapping\n",
    "anime_ids = rating_df[\"anime_id\"].unique().tolist()\n",
    "anime2anime_encoded = {x: i for i, x in enumerate(anime_ids)}\n",
    "anime_encoded2anime = {i: x for i, x in enumerate(anime_ids)}\n",
    "\n",
    "# Maps the encoded anime IDs to a new 'anime' column in the DataFrame\n",
    "rating_df[\"anime\"] = rating_df[\"anime_id\"].map(anime2anime_encoded)\n",
    "n_animes = len(anime2anime_encoded)\n",
    "\n",
    "# Displays the number of users and anime, as well as the min and max ratings\n",
    "print(\"Num of users: {}, Num of animes: {}\".format(n_users, n_animes))\n",
    "print(\"Min rating: {}, Max rating: {}\".format(min(rating_df['rating']), max(rating_df['rating'])))"
   ]
  },
  {
   "cell_type": "code",
   "execution_count": 8,
   "id": "49d8c074",
   "metadata": {
    "execution": {
     "iopub.execute_input": "2023-05-17T06:51:13.096666Z",
     "iopub.status.busy": "2023-05-17T06:51:13.096288Z",
     "iopub.status.idle": "2023-05-17T06:51:26.382224Z",
     "shell.execute_reply": "2023-05-17T06:51:26.380930Z"
    },
    "papermill": {
     "duration": 13.300718,
     "end_time": "2023-05-17T06:51:26.385089",
     "exception": false,
     "start_time": "2023-05-17T06:51:13.084371",
     "status": "completed"
    },
    "tags": []
   },
   "outputs": [],
   "source": [
    "# Shuffles the DataFrame using a random seed for reproducibility\n",
    "rating_df = rating_df.sample(frac=1, random_state=73)\n",
    "\n",
    "# Extracts features (X) and target variable (y)\n",
    "X = rating_df[['user', 'anime']].values\n",
    "y = rating_df[\"rating\"]"
   ]
  },
  {
   "cell_type": "code",
   "execution_count": 9,
   "id": "7e548239",
   "metadata": {
    "execution": {
     "iopub.execute_input": "2023-05-17T06:51:26.408985Z",
     "iopub.status.busy": "2023-05-17T06:51:26.408545Z",
     "iopub.status.idle": "2023-05-17T06:51:26.417907Z",
     "shell.execute_reply": "2023-05-17T06:51:26.415610Z"
    },
    "papermill": {
     "duration": 0.023787,
     "end_time": "2023-05-17T06:51:26.420189",
     "exception": false,
     "start_time": "2023-05-17T06:51:26.396402",
     "status": "completed"
    },
    "tags": []
   },
   "outputs": [
    {
     "name": "stdout",
     "output_type": "stream",
     "text": [
      "> Train set ratings: 71408113\n",
      "> Test set ratings: 10000\n"
     ]
    }
   ],
   "source": [
    "# Defines the size of the test set\n",
    "test_set_size = 10000 #10k for test set\n",
    "# Calculates the index where the training set ends\n",
    "train_indices = rating_df.shape[0] - test_set_size \n",
    "\n",
    "# Splits the data into training and test sets\n",
    "X_train, X_test, y_train, y_test = (\n",
    "    X[:train_indices],\n",
    "    X[train_indices:],\n",
    "    y[:train_indices],\n",
    "    y[train_indices:],\n",
    ")\n",
    "\n",
    "# Displays the number of ratings in the training and test sets\n",
    "print('> Train set ratings: {}'.format(len(y_train)))\n",
    "print('> Test set ratings: {}'.format(len(y_test)))"
   ]
  },
  {
   "cell_type": "code",
   "execution_count": 10,
   "id": "f9f82d22",
   "metadata": {
    "execution": {
     "iopub.execute_input": "2023-05-17T06:51:26.443276Z",
     "iopub.status.busy": "2023-05-17T06:51:26.442829Z",
     "iopub.status.idle": "2023-05-17T06:51:26.447810Z",
     "shell.execute_reply": "2023-05-17T06:51:26.446784Z"
    },
    "papermill": {
     "duration": 0.019939,
     "end_time": "2023-05-17T06:51:26.450774",
     "exception": false,
     "start_time": "2023-05-17T06:51:26.430835",
     "status": "completed"
    },
    "tags": []
   },
   "outputs": [],
   "source": [
    "# Extracts user and anime features from the training set\n",
    "# Creates a list (X_train_array) containing the user and anime features as separate arrays\n",
    "# Extracts user and anime features from the test set\n",
    "# Creates a list (X_test_array) containing the user and anime features as separate arrays\n",
    "X_train_array = [X_train[:, 0], X_train[:, 1]]\n",
    "X_test_array = [X_test[:, 0], X_test[:, 1]]"
   ]
  },
  {
   "cell_type": "code",
   "execution_count": 11,
   "id": "dccc42ad",
   "metadata": {
    "_kg_hide-input": false,
    "_kg_hide-output": true,
    "execution": {
     "iopub.execute_input": "2023-05-17T06:51:26.474160Z",
     "iopub.status.busy": "2023-05-17T06:51:26.473756Z",
     "iopub.status.idle": "2023-05-17T06:51:39.355710Z",
     "shell.execute_reply": "2023-05-17T06:51:39.354730Z"
    },
    "papermill": {
     "duration": 12.895796,
     "end_time": "2023-05-17T06:51:39.357844",
     "exception": false,
     "start_time": "2023-05-17T06:51:26.462048",
     "status": "completed"
    },
    "tags": []
   },
   "outputs": [
    {
     "name": "stdout",
     "output_type": "stream",
     "text": [
      "Sun Nov 26 17:00:51 2023       \n",
      "+-----------------------------------------------------------------------------+\n",
      "| NVIDIA-SMI 527.99       Driver Version: 527.99       CUDA Version: 12.0     |\n",
      "|-------------------------------+----------------------+----------------------+\n",
      "| GPU  Name            TCC/WDDM | Bus-Id        Disp.A | Volatile Uncorr. ECC |\n",
      "| Fan  Temp  Perf  Pwr:Usage/Cap|         Memory-Usage | GPU-Util  Compute M. |\n",
      "|                               |                      |               MIG M. |\n",
      "|===============================+======================+======================|\n",
      "|   0  NVIDIA GeForce ... WDDM  | 00000000:01:00.0 Off |                  N/A |\n",
      "| N/A   40C    P8    16W /  40W |      0MiB /  8192MiB |      0%      Default |\n",
      "|                               |                      |                  N/A |\n",
      "+-------------------------------+----------------------+----------------------+\n",
      "                                                                               \n",
      "+-----------------------------------------------------------------------------+\n",
      "| Processes:                                                                  |\n",
      "|  GPU   GI   CI        PID   Type   Process name                  GPU Memory |\n",
      "|        ID   ID                                                   Usage      |\n",
      "|=============================================================================|\n",
      "|    0   N/A  N/A     15324    C+G   ...n64\\EpicGamesLauncher.exe    N/A      |\n",
      "+-----------------------------------------------------------------------------+\n",
      "2.13.0\n"
     ]
    }
   ],
   "source": [
    "# Accelerator check\n",
    "# Imports TensorFlow library\n",
    "import tensorflow as tf\n",
    "\n",
    "# Sets the flag for TPU initialization\n",
    "TPU_INIT = False\n",
    "\n",
    "# Checks if TPU initialization is enabled\n",
    "if TPU_INIT:\n",
    "    # TPU configuration\n",
    "    tpu = tf.distribute.cluster_resolver.TPUClusterResolver(tpu='your_tpu_name') # Replace 'your_tpu_name' with the actual TPU name\n",
    "    tf.config.experimental_connect_to_cluster(tpu)\n",
    "    tf.tpu.experimental.initialize_tpu_system(tpu)\n",
    "    tpu_strategy = tf.distribute.experimental.TPUStrategy(tpu)\n",
    "else:\n",
    "    # If TPU initialization is not enabled, print GPU information\n",
    "    !nvidia-smi\n",
    "\n",
    "# Print the TensorFlow version\n",
    "print(tf.__version__)\n"
   ]
  },
  {
   "cell_type": "markdown",
   "id": "cccb924c",
   "metadata": {
    "papermill": {
     "duration": 0.01057,
     "end_time": "2023-05-17T06:51:39.379274",
     "exception": false,
     "start_time": "2023-05-17T06:51:39.368704",
     "status": "completed"
    },
    "tags": []
   },
   "source": [
    "## **Model Building**"
   ]
  },
  {
   "cell_type": "code",
   "execution_count": 12,
   "id": "0a6e38ea",
   "metadata": {
    "execution": {
     "iopub.execute_input": "2023-05-17T06:51:39.403380Z",
     "iopub.status.busy": "2023-05-17T06:51:39.403015Z",
     "iopub.status.idle": "2023-05-17T06:51:39.410278Z",
     "shell.execute_reply": "2023-05-17T06:51:39.408793Z"
    },
    "papermill": {
     "duration": 0.022053,
     "end_time": "2023-05-17T06:51:39.412719",
     "exception": false,
     "start_time": "2023-05-17T06:51:39.390666",
     "status": "completed"
    },
    "tags": []
   },
   "outputs": [],
   "source": [
    "# Import TensorFlow library\n",
    "import tensorflow as tf\n",
    "# Import specific modules from TensorFlow Keras\n",
    "from tensorflow.keras import layers\n",
    "from tensorflow.keras.models import Model\n",
    "from tensorflow.keras.optimizers import Adam"
   ]
  },
  {
   "cell_type": "code",
   "execution_count": 13,
   "id": "398242da",
   "metadata": {
    "execution": {
     "iopub.execute_input": "2023-05-17T06:51:39.436056Z",
     "iopub.status.busy": "2023-05-17T06:51:39.435582Z",
     "iopub.status.idle": "2023-05-17T06:51:41.375223Z",
     "shell.execute_reply": "2023-05-17T06:51:41.374156Z"
    },
    "papermill": {
     "duration": 1.954214,
     "end_time": "2023-05-17T06:51:41.377715",
     "exception": false,
     "start_time": "2023-05-17T06:51:39.423501",
     "status": "completed"
    },
    "tags": []
   },
   "outputs": [
    {
     "name": "stdout",
     "output_type": "stream",
     "text": [
      "Model: \"model\"\n",
      "__________________________________________________________________________________________________\n",
      " Layer (type)                Output Shape                 Param #   Connected to                  \n",
      "==================================================================================================\n",
      " user (InputLayer)           [(None, 1)]                  0         []                            \n",
      "                                                                                                  \n",
      " anime (InputLayer)          [(None, 1)]                  0         []                            \n",
      "                                                                                                  \n",
      " user_embedding (Embedding)  (None, 1, 128)               1173004   ['user[0][0]']                \n",
      "                                                          8                                       \n",
      "                                                                                                  \n",
      " anime_embedding (Embedding  (None, 1, 128)               2247680   ['anime[0][0]']               \n",
      " )                                                                                                \n",
      "                                                                                                  \n",
      " dot_product (Dot)           (None, 1, 1)                 0         ['user_embedding[0][0]',      \n",
      "                                                                     'anime_embedding[0][0]']     \n",
      "                                                                                                  \n",
      " flatten (Flatten)           (None, 1)                    0         ['dot_product[0][0]']         \n",
      "                                                                                                  \n",
      " dense (Dense)               (None, 1)                    2         ['flatten[0][0]']             \n",
      "                                                                                                  \n",
      " batch_normalization (Batch  (None, 1)                    4         ['dense[0][0]']               \n",
      " Normalization)                                                                                   \n",
      "                                                                                                  \n",
      " activation (Activation)     (None, 1)                    0         ['batch_normalization[0][0]'] \n",
      "                                                                                                  \n",
      "==================================================================================================\n",
      "Total params: 13977734 (53.32 MB)\n",
      "Trainable params: 13977732 (53.32 MB)\n",
      "Non-trainable params: 2 (8.00 Byte)\n",
      "__________________________________________________________________________________________________\n"
     ]
    }
   ],
   "source": [
    "# Imports necessary modules from TensorFlow Keras\n",
    "from tensorflow.keras.layers import Add, Activation, Lambda, BatchNormalization, Concatenate, Dropout, Input, Embedding, Dot, Reshape, Dense, Flatten\n",
    "\n",
    "# Define a function to create the RecommenderNet model\n",
    "def RecommenderNet():\n",
    "    embedding_size = 128 # Size of the embedding vectors\n",
    "\n",
    "    # Define input layer for user IDs\n",
    "    user = Input(name = 'user', shape = [1])\n",
    "    # Create an Embedding layer for user IDs\n",
    "    user_embedding = Embedding(name = 'user_embedding',\n",
    "                       input_dim = n_users, \n",
    "                       output_dim = embedding_size)(user)\n",
    "    \n",
    "    # Define input layer for anime IDs\n",
    "    anime = Input(name = 'anime', shape = [1])\n",
    "    # Create an Embedding layer for anime IDs\n",
    "    anime_embedding = Embedding(name = 'anime_embedding',\n",
    "                       input_dim = n_animes, \n",
    "                       output_dim = embedding_size)(anime)\n",
    "    \n",
    "    #x = Concatenate()([user_embedding, anime_embedding])\n",
    "    x = Dot(name = 'dot_product', normalize = True, axes = 2)([user_embedding, anime_embedding])\n",
    "    x = Flatten()(x)\n",
    "      \n",
    "    # Fully connected layer with ReLU activation\n",
    "    x = Dense(1, kernel_initializer='he_normal')(x)\n",
    "    x = BatchNormalization()(x)\n",
    "    x = Activation(\"sigmoid\")(x) # Apply sigmoid activation for binary classification\n",
    "   \n",
    "    # Create the final model\n",
    "    model = Model(inputs=[user, anime], outputs=x)\n",
    "    model.compile(loss='binary_crossentropy', metrics=[\"mae\", \"mse\"], optimizer='Adam')\n",
    "    \n",
    "    return model\n",
    "\n",
    "# Check if TPU initialization is enabled and create the model accordingly\n",
    "if TPU_INIT:    \n",
    "    with tpu_strategy.scope():\n",
    "        model = RecommenderNet()\n",
    "else:\n",
    "    model = RecommenderNet()\n",
    "\n",
    "# Display the model summary\n",
    "model.summary()"
   ]
  },
  {
   "cell_type": "code",
   "execution_count": 14,
   "id": "750cca34",
   "metadata": {
    "execution": {
     "iopub.execute_input": "2023-05-17T06:51:41.404314Z",
     "iopub.status.busy": "2023-05-17T06:51:41.403972Z",
     "iopub.status.idle": "2023-05-17T06:51:41.413521Z",
     "shell.execute_reply": "2023-05-17T06:51:41.411838Z"
    },
    "papermill": {
     "duration": 0.025644,
     "end_time": "2023-05-17T06:51:41.415511",
     "exception": false,
     "start_time": "2023-05-17T06:51:41.389867",
     "status": "completed"
    },
    "tags": []
   },
   "outputs": [],
   "source": [
    "# Import necessary callbacks from TensorFlow Keras\n",
    "from tensorflow.keras.callbacks import Callback, ModelCheckpoint, LearningRateScheduler, TensorBoard, EarlyStopping, ReduceLROnPlateau\n",
    "\n",
    "# Set initial, minimum, and maximum learning rates, and batch size\n",
    "start_lr = 0.00001\n",
    "min_lr = 0.00001\n",
    "max_lr = 0.00005\n",
    "batch_size = 100000\n",
    "\n",
    "# Adjust max_lr and batch_size for TPUs\n",
    "if TPU_INIT:\n",
    "    max_lr = max_lr * tpu_strategy.num_replicas_in_sync\n",
    "    batch_size = batch_size * tpu_strategy.num_replicas_in_sync\n",
    "\n",
    "# Set up learning rate schedule parameters\n",
    "rampup_epochs = 5\n",
    "sustain_epochs = 0\n",
    "exp_decay = .8\n",
    "\n",
    "# Learning rate schedule function\n",
    "def lrfn(epoch):\n",
    "    if epoch < rampup_epochs:\n",
    "        return (max_lr - start_lr)/rampup_epochs * epoch + start_lr\n",
    "    elif epoch < rampup_epochs + sustain_epochs:\n",
    "        return max_lr\n",
    "    else:\n",
    "        return (max_lr - min_lr) * exp_decay**(epoch-rampup_epochs-sustain_epochs) + min_lr\n",
    "\n",
    "\n",
    "# Create a LearningRateScheduler callback with the defined schedule function    \n",
    "lr_callback = LearningRateScheduler(lambda epoch: lrfn(epoch), verbose=0)\n",
    "\n",
    "\n",
    "# Set up ModelCheckpoint callback to save the best model weights\n",
    "checkpoint_filepath = './weights.h5'\n",
    "\n",
    "model_checkpoints = ModelCheckpoint(filepath=checkpoint_filepath,\n",
    "                                        save_weights_only=True,\n",
    "                                        monitor='val_loss',\n",
    "                                        mode='min',\n",
    "                                        save_best_only=True)\n",
    "\n",
    "\n",
    "# Set up EarlyStopping callback for early stopping based on validation loss\n",
    "early_stopping = EarlyStopping(patience = 3, monitor='val_loss', \n",
    "                               mode='min', restore_best_weights=True)\n",
    "\n",
    "# List of callbacks to be used during model training\n",
    "my_callbacks = [\n",
    "    model_checkpoints,\n",
    "    lr_callback,\n",
    "    early_stopping,   \n",
    "]"
   ]
  },
  {
   "cell_type": "code",
   "execution_count": 15,
   "id": "23df1e53",
   "metadata": {
    "execution": {
     "iopub.execute_input": "2023-05-17T06:51:41.441989Z",
     "iopub.status.busy": "2023-05-17T06:51:41.441567Z",
     "iopub.status.idle": "2023-05-17T06:56:00.003315Z",
     "shell.execute_reply": "2023-05-17T06:56:00.001406Z"
    },
    "papermill": {
     "duration": 258.577745,
     "end_time": "2023-05-17T06:56:00.005976",
     "exception": false,
     "start_time": "2023-05-17T06:51:41.428231",
     "status": "completed"
    },
    "tags": []
   },
   "outputs": [
    {
     "name": "stdout",
     "output_type": "stream",
     "text": [
      "Epoch 1/20\n",
      "715/715 [==============================] - 325s 445ms/step - loss: 0.8030 - mae: 0.3847 - mse: 0.1998 - val_loss: 0.7971 - val_mae: 0.3845 - val_mse: 0.1992 - lr: 1.0000e-05\n",
      "Epoch 2/20\n",
      "715/715 [==============================] - 304s 426ms/step - loss: 0.7982 - mae: 0.3832 - mse: 0.1980 - val_loss: 0.7942 - val_mae: 0.3840 - val_mse: 0.1981 - lr: 1.8000e-05\n",
      "Epoch 3/20\n",
      "715/715 [==============================] - 313s 438ms/step - loss: 0.7893 - mae: 0.3803 - mse: 0.1946 - val_loss: 0.7859 - val_mae: 0.3816 - val_mse: 0.1950 - lr: 2.6000e-05\n",
      "Epoch 4/20\n",
      "715/715 [==============================] - 318s 445ms/step - loss: 0.7680 - mae: 0.3717 - mse: 0.1860 - val_loss: 0.7541 - val_mae: 0.3679 - val_mse: 0.1819 - lr: 3.4000e-05\n",
      "Epoch 5/20\n",
      "715/715 [==============================] - 323s 452ms/step - loss: 0.6935 - mae: 0.3355 - mse: 0.1546 - val_loss: 0.6547 - val_mae: 0.3164 - val_mse: 0.1397 - lr: 4.2000e-05\n",
      "Epoch 6/20\n",
      "715/715 [==============================] - 301s 421ms/step - loss: 0.6132 - mae: 0.2921 - mse: 0.1201 - val_loss: 0.6025 - val_mae: 0.2876 - val_mse: 0.1173 - lr: 5.0000e-05\n",
      "Epoch 7/20\n",
      "715/715 [==============================] - 318s 445ms/step - loss: 0.5847 - mae: 0.2750 - mse: 0.1077 - val_loss: 0.5848 - val_mae: 0.2777 - val_mse: 0.1096 - lr: 4.2000e-05\n",
      "Epoch 8/20\n",
      "715/715 [==============================] - 320s 447ms/step - loss: 0.5713 - mae: 0.2667 - mse: 0.1019 - val_loss: 0.5741 - val_mae: 0.2714 - val_mse: 0.1049 - lr: 3.5600e-05\n",
      "Epoch 9/20\n",
      "715/715 [==============================] - 312s 436ms/step - loss: 0.5620 - mae: 0.2607 - mse: 0.0979 - val_loss: 0.5664 - val_mae: 0.2665 - val_mse: 0.1016 - lr: 3.0480e-05\n",
      "Epoch 10/20\n",
      "715/715 [==============================] - 308s 431ms/step - loss: 0.5551 - mae: 0.2559 - mse: 0.0949 - val_loss: 0.5604 - val_mae: 0.2625 - val_mse: 0.0990 - lr: 2.6384e-05\n",
      "Epoch 11/20\n",
      "715/715 [==============================] - 309s 433ms/step - loss: 0.5496 - mae: 0.2521 - mse: 0.0926 - val_loss: 0.5557 - val_mae: 0.2591 - val_mse: 0.0970 - lr: 2.3107e-05\n",
      "Epoch 12/20\n",
      "715/715 [==============================] - 308s 431ms/step - loss: 0.5450 - mae: 0.2488 - mse: 0.0907 - val_loss: 0.5516 - val_mae: 0.2563 - val_mse: 0.0953 - lr: 2.0486e-05\n",
      "Epoch 13/20\n",
      "715/715 [==============================] - 305s 426ms/step - loss: 0.5410 - mae: 0.2460 - mse: 0.0891 - val_loss: 0.5481 - val_mae: 0.2538 - val_mse: 0.0939 - lr: 1.8389e-05\n",
      "Epoch 14/20\n",
      "715/715 [==============================] - 315s 441ms/step - loss: 0.5376 - mae: 0.2435 - mse: 0.0877 - val_loss: 0.5451 - val_mae: 0.2516 - val_mse: 0.0926 - lr: 1.6711e-05\n",
      "Epoch 15/20\n",
      "715/715 [==============================] - 310s 433ms/step - loss: 0.5345 - mae: 0.2413 - mse: 0.0865 - val_loss: 0.5424 - val_mae: 0.2497 - val_mse: 0.0915 - lr: 1.5369e-05\n",
      "Epoch 16/20\n",
      "715/715 [==============================] - 307s 430ms/step - loss: 0.5317 - mae: 0.2393 - mse: 0.0854 - val_loss: 0.5399 - val_mae: 0.2479 - val_mse: 0.0905 - lr: 1.4295e-05\n",
      "Epoch 17/20\n",
      "715/715 [==============================] - 314s 439ms/step - loss: 0.5292 - mae: 0.2375 - mse: 0.0844 - val_loss: 0.5378 - val_mae: 0.2463 - val_mse: 0.0897 - lr: 1.3436e-05\n",
      "Epoch 18/20\n",
      "715/715 [==============================] - 305s 426ms/step - loss: 0.5269 - mae: 0.2359 - mse: 0.0835 - val_loss: 0.5358 - val_mae: 0.2449 - val_mse: 0.0889 - lr: 1.2749e-05\n",
      "Epoch 19/20\n",
      "715/715 [==============================] - 302s 422ms/step - loss: 0.5248 - mae: 0.2344 - mse: 0.0827 - val_loss: 0.5340 - val_mae: 0.2436 - val_mse: 0.0882 - lr: 1.2199e-05\n",
      "Epoch 20/20\n",
      "715/715 [==============================] - 298s 416ms/step - loss: 0.5229 - mae: 0.2330 - mse: 0.0819 - val_loss: 0.5324 - val_mae: 0.2424 - val_mse: 0.0875 - lr: 1.1759e-05\n"
     ]
    }
   ],
   "source": [
    "# Train the model using the fit method\n",
    "history = model.fit(\n",
    "    x=X_train_array,\n",
    "    y=y_train,\n",
    "    batch_size=batch_size,\n",
    "    epochs=20,\n",
    "    verbose=1,\n",
    "    validation_data=(X_test_array, y_test),\n",
    "    callbacks=my_callbacks\n",
    ")\n",
    "\n",
    "# Load the best weights based on the ModelCheckpoint callback\n",
    "model.load_weights(checkpoint_filepath)"
   ]
  },
  {
   "cell_type": "code",
   "execution_count": 16,
   "id": "a855777d",
   "metadata": {
    "execution": {
     "iopub.execute_input": "2023-05-17T06:56:00.637809Z",
     "iopub.status.busy": "2023-05-17T06:56:00.637338Z",
     "iopub.status.idle": "2023-05-17T06:56:00.953645Z",
     "shell.execute_reply": "2023-05-17T06:56:00.952687Z"
    },
    "papermill": {
     "duration": 0.675813,
     "end_time": "2023-05-17T06:56:00.957586",
     "exception": false,
     "start_time": "2023-05-17T06:56:00.281773",
     "status": "completed"
    },
    "tags": []
   },
   "outputs": [
    {
     "data": {
      "image/png": "[encoded data removed]",
      "text/plain": [
       "<Figure size 640x480 with 1 Axes>"
      ]
     },
     "metadata": {},
     "output_type": "display_data"
    }
   ],
   "source": [
    "# Import the Matplotlib library for plotting\n",
    "import matplotlib.pyplot as plt\n",
    "%matplotlib inline\n",
    "\n",
    "# Plot the training and validation loss over epochs\n",
    "plt.plot(history.history[\"loss\"][0:-2])\n",
    "plt.plot(history.history[\"val_loss\"][0:-2])\n",
    "plt.title(\"model loss\")\n",
    "plt.ylabel(\"loss\")\n",
    "plt.xlabel(\"epoch\")\n",
    "plt.legend([\"train\", \"test\"], loc=\"upper left\")\n",
    "plt.show()"
   ]
  },
  {
   "cell_type": "markdown",
   "id": "b747051e",
   "metadata": {
    "papermill": {
     "duration": 0.229725,
     "end_time": "2023-05-17T06:56:01.426240",
     "exception": false,
     "start_time": "2023-05-17T06:56:01.196515",
     "status": "completed"
    },
    "tags": []
   },
   "source": [
    "## **Extracting weights from model**"
   ]
  },
  {
   "cell_type": "code",
   "execution_count": 17,
   "id": "cb1f6d3a",
   "metadata": {
    "execution": {
     "iopub.execute_input": "2023-05-17T06:56:01.867996Z",
     "iopub.status.busy": "2023-05-17T06:56:01.867547Z",
     "iopub.status.idle": "2023-05-17T06:56:02.019853Z",
     "shell.execute_reply": "2023-05-17T06:56:02.018561Z"
    },
    "papermill": {
     "duration": 0.377049,
     "end_time": "2023-05-17T06:56:02.022834",
     "exception": false,
     "start_time": "2023-05-17T06:56:01.645785",
     "status": "completed"
    },
    "tags": []
   },
   "outputs": [],
   "source": [
    "def extract_weights(name, model):\n",
    "    weight_layer = model.get_layer(name)\n",
    "    weights = weight_layer.get_weights()[0]\n",
    "    weights = weights / np.linalg.norm(weights, axis = 1).reshape((-1, 1))\n",
    "    return weights\n",
    "\n",
    "anime_weights = extract_weights('anime_embedding', model)\n",
    "user_weights = extract_weights('user_embedding', model)"
   ]
  },
  {
   "cell_type": "markdown",
   "id": "3220c62a",
   "metadata": {
    "papermill": {
     "duration": 0.218804,
     "end_time": "2023-05-17T06:56:02.464061",
     "exception": false,
     "start_time": "2023-05-17T06:56:02.245257",
     "status": "completed"
    },
    "tags": []
   },
   "source": [
    "### **anime meta data**"
   ]
  },
  {
   "cell_type": "code",
   "execution_count": 18,
   "id": "c1ac6418",
   "metadata": {
    "execution": {
     "iopub.execute_input": "2023-05-17T06:56:02.972526Z",
     "iopub.status.busy": "2023-05-17T06:56:02.971866Z",
     "iopub.status.idle": "2023-05-17T06:56:03.218123Z",
     "shell.execute_reply": "2023-05-17T06:56:03.216761Z"
    },
    "papermill": {
     "duration": 0.534482,
     "end_time": "2023-05-17T06:56:03.220814",
     "exception": false,
     "start_time": "2023-05-17T06:56:02.686332",
     "status": "completed"
    },
    "tags": []
   },
   "outputs": [],
   "source": [
    "df = pd.read_csv(INPUT_DIR + '/anime.csv', low_memory=True)\n",
    "df = df.replace(\"Unknown\", np.nan)"
   ]
  },
  {
   "cell_type": "code",
   "execution_count": 19,
   "id": "c0143a54",
   "metadata": {
    "execution": {
     "iopub.execute_input": "2023-05-17T06:56:03.663242Z",
     "iopub.status.busy": "2023-05-17T06:56:03.662812Z",
     "iopub.status.idle": "2023-05-17T06:56:12.621737Z",
     "shell.execute_reply": "2023-05-17T06:56:12.619811Z"
    },
    "papermill": {
     "duration": 9.181049,
     "end_time": "2023-05-17T06:56:12.624428",
     "exception": false,
     "start_time": "2023-05-17T06:56:03.443379",
     "status": "completed"
    },
    "tags": []
   },
   "outputs": [],
   "source": [
    "# Fixing Names\n",
    "def getAnimeName(anime_id):\n",
    "    try:\n",
    "        name = df[df.anime_id == anime_id].eng_version.values[0]\n",
    "        if name is np.nan:\n",
    "            name = df[df.anime_id == anime_id].Name.values[0]\n",
    "    except:\n",
    "        print('error')\n",
    "    \n",
    "    return name\n",
    "\n",
    "df['anime_id'] = df['MAL_ID']\n",
    "df[\"eng_version\"] = df['English name']\n",
    "df['eng_version'] = df.anime_id.apply(lambda x: getAnimeName(x))\n",
    "\n",
    "df.sort_values(by=['Score'], \n",
    "               inplace=True,\n",
    "               ascending=False, \n",
    "               kind='quicksort',\n",
    "               na_position='last')\n",
    "\n",
    "df = df[[\"anime_id\", \"eng_version\", \n",
    "         \"Score\", \"Genres\", \"Episodes\", \n",
    "         \"Type\", \"Premiered\", \"Members\"]]"
   ]
  },
  {
   "cell_type": "code",
   "execution_count": 20,
   "id": "9b9d2d90",
   "metadata": {
    "execution": {
     "iopub.execute_input": "2023-05-17T06:56:13.080625Z",
     "iopub.status.busy": "2023-05-17T06:56:13.080136Z",
     "iopub.status.idle": "2023-05-17T06:56:13.084562Z",
     "shell.execute_reply": "2023-05-17T06:56:13.083945Z"
    },
    "papermill": {
     "duration": 0.232058,
     "end_time": "2023-05-17T06:56:13.086257",
     "exception": false,
     "start_time": "2023-05-17T06:56:12.854199",
     "status": "completed"
    },
    "tags": []
   },
   "outputs": [],
   "source": [
    "def getAnimeFrame(anime):\n",
    "    if isinstance(anime, int):\n",
    "        return df[df.anime_id == anime]\n",
    "    if isinstance(anime, str):\n",
    "        return df[df.eng_version == anime]"
   ]
  },
  {
   "cell_type": "markdown",
   "id": "3b6f2c17",
   "metadata": {
    "papermill": {
     "duration": 0.228919,
     "end_time": "2023-05-17T06:56:13.537332",
     "exception": false,
     "start_time": "2023-05-17T06:56:13.308413",
     "status": "completed"
    },
    "tags": []
   },
   "source": [
    "### **sypnopsis data**"
   ]
  },
  {
   "cell_type": "code",
   "execution_count": 21,
   "id": "e01b1585",
   "metadata": {
    "execution": {
     "iopub.execute_input": "2023-05-17T06:56:14.098480Z",
     "iopub.status.busy": "2023-05-17T06:56:14.097869Z",
     "iopub.status.idle": "2023-05-17T06:56:14.297961Z",
     "shell.execute_reply": "2023-05-17T06:56:14.296005Z"
    },
    "papermill": {
     "duration": 0.510525,
     "end_time": "2023-05-17T06:56:14.300740",
     "exception": false,
     "start_time": "2023-05-17T06:56:13.790215",
     "status": "completed"
    },
    "tags": []
   },
   "outputs": [],
   "source": [
    "cols = [\"MAL_ID\", \"Name\", \"Genres\", \"sypnopsis\"]\n",
    "sypnopsis_df = pd.read_csv(INPUT_DIR + '/anime_with_synopsis.csv', usecols=cols)\n",
    "\n",
    "def getSypnopsis(anime):\n",
    "    if isinstance(anime, int):\n",
    "        return sypnopsis_df[sypnopsis_df.MAL_ID == anime].sypnopsis.values[0]\n",
    "    if isinstance(anime, str):\n",
    "        return sypnopsis_df[sypnopsis_df.Name == anime].sypnopsis.values[0]"
   ]
  },
  {
   "cell_type": "markdown",
   "id": "df9bc151",
   "metadata": {
    "papermill": {
     "duration": 0.225188,
     "end_time": "2023-05-17T06:56:14.752923",
     "exception": false,
     "start_time": "2023-05-17T06:56:14.527735",
     "status": "completed"
    },
    "tags": []
   },
   "source": [
    "## **Task 1**: Finding Similar Animes (Item Based Recommendation)"
   ]
  },
  {
   "cell_type": "code",
   "execution_count": 22,
   "id": "336dd53c",
   "metadata": {
    "execution": {
     "iopub.execute_input": "2023-05-17T06:56:15.200199Z",
     "iopub.status.busy": "2023-05-17T06:56:15.199532Z",
     "iopub.status.idle": "2023-05-17T06:56:15.209676Z",
     "shell.execute_reply": "2023-05-17T06:56:15.208406Z"
    },
    "papermill": {
     "duration": 0.236484,
     "end_time": "2023-05-17T06:56:15.212594",
     "exception": false,
     "start_time": "2023-05-17T06:56:14.976110",
     "status": "completed"
    },
    "tags": []
   },
   "outputs": [],
   "source": [
    "# Set the Pandas option to display the full content of columns\n",
    "pd.set_option(\"max_colwidth\", None)\n",
    "\n",
    "# Define a function to find similar animes\n",
    "def find_similar_animes(name, n=10, return_dist=False, neg=False):\n",
    "    try:\n",
    "        # Get the anime_id for the provided anime name\n",
    "        index = getAnimeFrame(name).anime_id.values[0]\n",
    "        encoded_index = anime2anime_encoded.get(index)\n",
    "        weights = anime_weights\n",
    "        \n",
    "        # Calculate dot product to find similarity\n",
    "        dists = np.dot(weights, weights[encoded_index])\n",
    "        sorted_dists = np.argsort(dists)\n",
    "       \n",
    "        # Adjust the number of similar animes to include\n",
    "        n = n + 1            \n",
    "        \n",
    "        # Select either top or bottom similar animes based on the 'neg' parameter\n",
    "        if neg:\n",
    "            closest = sorted_dists[:n]\n",
    "        else:\n",
    "            closest = sorted_dists[-n:]\n",
    "\n",
    "        print('animes closest to {}'.format(name))\n",
    "\n",
    "        if return_dist:\n",
    "            return dists, closest\n",
    "        \n",
    "        # Get the DataFrame containing anime information\n",
    "        rindex = df\n",
    "\n",
    "        SimilarityArr = []\n",
    "\n",
    "        # Iterate through the closest animes\n",
    "        for close in closest:\n",
    "            decoded_id = anime_encoded2anime.get(close)\n",
    "            sypnopsis = getSypnopsis(decoded_id)\n",
    "            anime_frame = getAnimeFrame(decoded_id)\n",
    "            \n",
    "            anime_name = anime_frame.eng_version.values[0]\n",
    "            genre = anime_frame.Genres.values[0]\n",
    "            similarity = dists[close]\n",
    "            \n",
    "            # Create a dictionary with anime information and similarity score\n",
    "            SimilarityArr.append({\"anime_id\": decoded_id, \"name\": anime_name,\n",
    "                                  \"similarity\": similarity,\"genre\": genre,\n",
    "                                  'sypnopsis': sypnopsis})\n",
    "            \n",
    "        # Create a DataFrame from the list of similar animes and sort by similarity\n",
    "        Frame = pd.DataFrame(SimilarityArr).sort_values(by=\"similarity\", ascending=False)\n",
    "        \n",
    "        # Drop the 'anime_id' column and exclude the queried anime\n",
    "        return Frame[Frame.anime_id != index].drop(['anime_id'], axis=1)\n",
    "\n",
    "    except:\n",
    "        print('{}!, Not Found in Anime list'.format(name))"
   ]
  },
  {
   "cell_type": "code",
   "execution_count": 23,
   "id": "e338d00b",
   "metadata": {
    "execution": {
     "iopub.execute_input": "2023-05-17T06:56:16.634086Z",
     "iopub.status.busy": "2023-05-17T06:56:16.633377Z",
     "iopub.status.idle": "2023-05-17T06:56:16.667522Z",
     "shell.execute_reply": "2023-05-17T06:56:16.666580Z"
    },
    "papermill": {
     "duration": 0.263252,
     "end_time": "2023-05-17T06:56:16.669966",
     "exception": false,
     "start_time": "2023-05-17T06:56:16.406714",
     "status": "completed"
    },
    "tags": []
   },
   "outputs": [
    {
     "name": "stdout",
     "output_type": "stream",
     "text": [
      "animes closest to Dragon Ball Z\n"
     ]
    },
    {
     "data": {
      "text/html": [
       "<div>\n",
       "<style scoped>\n",
       "    .dataframe tbody tr th:only-of-type {\n",
       "        vertical-align: middle;\n",
       "    }\n",
       "\n",
       "    .dataframe tbody tr th {\n",
       "        vertical-align: top;\n",
       "    }\n",
       "\n",
       "    .dataframe thead th {\n",
       "        text-align: right;\n",
       "    }\n",
       "</style>\n",
       "<table border=\"1\" class=\"dataframe\">\n",
       "  <thead>\n",
       "    <tr style=\"text-align: right;\">\n",
       "      <th></th>\n",
       "      <th>name</th>\n",
       "      <th>similarity</th>\n",
       "      <th>genre</th>\n",
       "      <th>sypnopsis</th>\n",
       "    </tr>\n",
       "  </thead>\n",
       "  <tbody>\n",
       "    <tr>\n",
       "      <th>4</th>\n",
       "      <td>Dragon Ball</td>\n",
       "      <td>0.968891</td>\n",
       "      <td>Adventure, Comedy, Fantasy, Martial Arts, Shounen, Super Power</td>\n",
       "      <td>Gokuu Son is a young boy who lives in the woods all alone—that is, until a girl named Bulma runs into him in her search for a set of magical objects called the \"Dragon Balls.\" Since the artifacts are said to grant one wish to whoever collects all seven, Bulma hopes to gather them and wish for a perfect boyfriend. Gokuu happens to be in possession of a dragon ball, but unfortunately for Bulma, he refuses to part ways with it, so she makes him a deal: he can tag along on her journey if he lets her borrow the dragon ball's power. With that, the two set off on the journey of a lifetime. They don't go on the journey alone. On the way, they meet the old Muten-Roshi and wannabe disciple Kuririn, with whom Gokuu trains to become a stronger martial artist for the upcoming World Martial Arts Tournament. However, it's not all fun and games; the ability to make any wish come true is a powerful one, and there are others who would do much worse than just wishing for a boyfriend. To stop those who would try to abuse the legendary power, they train to become stronger fighters, using their newfound strength to help the people around them along the way.</td>\n",
       "    </tr>\n",
       "    <tr>\n",
       "      <th>3</th>\n",
       "      <td>Naruto</td>\n",
       "      <td>0.956694</td>\n",
       "      <td>Action, Adventure, Comedy, Super Power, Martial Arts, Shounen</td>\n",
       "      <td>oments prior to Naruto Uzumaki's birth, a huge demon known as the Kyuubi, the Nine-Tailed Fox, attacked Konohagakure, the Hidden Leaf Village, and wreaked havoc. In order to put an end to the Kyuubi's rampage, the leader of the village, the Fourth Hokage, sacrificed his life and sealed the monstrous beast inside the newborn Naruto. Now, Naruto is a hyperactive and knuckle-headed ninja still living in Konohagakure. Shunned because of the Kyuubi inside him, Naruto struggles to find his place in the village, while his burning desire to become the Hokage of Konohagakure leads him not only to some great new friends, but also some deadly foes.</td>\n",
       "    </tr>\n",
       "    <tr>\n",
       "      <th>2</th>\n",
       "      <td>Code Geass:Lelouch of the Rebellion R2</td>\n",
       "      <td>0.939043</td>\n",
       "      <td>Action, Military, Sci-Fi, Super Power, Drama, Mecha</td>\n",
       "      <td>One year has passed since the Black Rebellion, a failed uprising against the Holy Britannian Empire led by the masked vigilante Zero, who is now missing. At a loss without their revolutionary leader, Area 11's resistance group—the Black Knights—find themselves too powerless to combat the brutality inflicted upon the Elevens by Britannia, which has increased significantly in order to crush any hope of a future revolt. Lelouch Lamperouge, having lost all memory of his double life, is living peacefully alongside his friends as a high school student at Ashford Academy. His former partner C.C., unable to accept this turn of events, takes it upon herself to remind him of his past purpose, hoping that the mastermind Zero will rise once again to finish what he started, in this thrilling conclusion to the series.</td>\n",
       "    </tr>\n",
       "    <tr>\n",
       "      <th>1</th>\n",
       "      <td>Death Note</td>\n",
       "      <td>0.936128</td>\n",
       "      <td>Mystery, Police, Psychological, Supernatural, Thriller, Shounen</td>\n",
       "      <td>shinigami, as a god of death, can kill any person—provided they see their victim's face and write their victim's name in a notebook called a Death Note. One day, Ryuk, bored by the shinigami lifestyle and interested in seeing how a human would use a Death Note, drops one into the human realm. High school student and prodigy Light Yagami stumbles upon the Death Note and—since he deplores the state of the world—tests the deadly notebook by writing a criminal's name in it. When the criminal dies immediately following his experiment with the Death Note, Light is greatly surprised and quickly recognizes how devastating the power that has fallen into his hands could be. With this divine capability, Light decides to extinguish all criminals in order to build a new world where crime does not exist and people worship him as a god. Police, however, quickly discover that a serial killer is targeting criminals and, consequently, try to apprehend the culprit. To do this, the Japanese investigators count on the assistance of the best detective in the world: a young and eccentric man known only by the name of L.</td>\n",
       "    </tr>\n",
       "    <tr>\n",
       "      <th>0</th>\n",
       "      <td>Attack on Titan</td>\n",
       "      <td>0.930379</td>\n",
       "      <td>Action, Military, Mystery, Super Power, Drama, Fantasy, Shounen</td>\n",
       "      <td>Centuries ago, mankind was slaughtered to near extinction by monstrous humanoid creatures called titans, forcing humans to hide in fear behind enormous concentric walls. What makes these giants truly terrifying is that their taste for human flesh is not born out of hunger but what appears to be out of pleasure. To ensure their survival, the remnants of humanity began living within defensive barriers, resulting in one hundred years without a single titan encounter. However, that fragile calm is soon shattered when a colossal titan manages to breach the supposedly impregnable outer wall, reigniting the fight for survival against the man-eating abominations. After witnessing a horrific personal loss at the hands of the invading creatures, Eren Yeager dedicates his life to their eradication by enlisting into the Survey Corps, an elite military unit that combats the merciless humanoids outside the protection of the walls. Based on Hajime Isayama's award-winning manga, Shingeki no Kyojin follows Eren, along with his adopted sister Mikasa Ackerman and his childhood friend Armin Arlert, as they join the brutal war against the titans and race to discover a way of defeating them before the last walls are breached.</td>\n",
       "    </tr>\n",
       "  </tbody>\n",
       "</table>\n",
       "</div>"
      ],
      "text/plain": [
       "                                     name  similarity  \\\n",
       "4                             Dragon Ball    0.968891   \n",
       "3                                  Naruto    0.956694   \n",
       "2  Code Geass:Lelouch of the Rebellion R2    0.939043   \n",
       "1                              Death Note    0.936128   \n",
       "0                         Attack on Titan    0.930379   \n",
       "\n",
       "                                                             genre  \\\n",
       "4   Adventure, Comedy, Fantasy, Martial Arts, Shounen, Super Power   \n",
       "3    Action, Adventure, Comedy, Super Power, Martial Arts, Shounen   \n",
       "2              Action, Military, Sci-Fi, Super Power, Drama, Mecha   \n",
       "1  Mystery, Police, Psychological, Supernatural, Thriller, Shounen   \n",
       "0  Action, Military, Mystery, Super Power, Drama, Fantasy, Shounen   \n",
       "\n",
       "                                                                                                                                                                                                                                                                                                                                                                                                                                                                                                                                                                                                                                                                                                                                                                                                                                                                                                                                                                                                                                                                                                                                                                                                                                                                 sypnopsis  \n",
       "4                                                                        Gokuu Son is a young boy who lives in the woods all alone—that is, until a girl named Bulma runs into him in her search for a set of magical objects called the \"Dragon Balls.\" Since the artifacts are said to grant one wish to whoever collects all seven, Bulma hopes to gather them and wish for a perfect boyfriend. Gokuu happens to be in possession of a dragon ball, but unfortunately for Bulma, he refuses to part ways with it, so she makes him a deal: he can tag along on her journey if he lets her borrow the dragon ball's power. With that, the two set off on the journey of a lifetime. They don't go on the journey alone. On the way, they meet the old Muten-Roshi and wannabe disciple Kuririn, with whom Gokuu trains to become a stronger martial artist for the upcoming World Martial Arts Tournament. However, it's not all fun and games; the ability to make any wish come true is a powerful one, and there are others who would do much worse than just wishing for a boyfriend. To stop those who would try to abuse the legendary power, they train to become stronger fighters, using their newfound strength to help the people around them along the way.  \n",
       "3                                                                                                                                                                                                                                                                                                                                                                                                                                                                                                                                                                                                    oments prior to Naruto Uzumaki's birth, a huge demon known as the Kyuubi, the Nine-Tailed Fox, attacked Konohagakure, the Hidden Leaf Village, and wreaked havoc. In order to put an end to the Kyuubi's rampage, the leader of the village, the Fourth Hokage, sacrificed his life and sealed the monstrous beast inside the newborn Naruto. Now, Naruto is a hyperactive and knuckle-headed ninja still living in Konohagakure. Shunned because of the Kyuubi inside him, Naruto struggles to find his place in the village, while his burning desire to become the Hokage of Konohagakure leads him not only to some great new friends, but also some deadly foes.  \n",
       "2                                                                                                                                                                                                                                                                                                                                                                                                                          One year has passed since the Black Rebellion, a failed uprising against the Holy Britannian Empire led by the masked vigilante Zero, who is now missing. At a loss without their revolutionary leader, Area 11's resistance group—the Black Knights—find themselves too powerless to combat the brutality inflicted upon the Elevens by Britannia, which has increased significantly in order to crush any hope of a future revolt. Lelouch Lamperouge, having lost all memory of his double life, is living peacefully alongside his friends as a high school student at Ashford Academy. His former partner C.C., unable to accept this turn of events, takes it upon herself to remind him of his past purpose, hoping that the mastermind Zero will rise once again to finish what he started, in this thrilling conclusion to the series.  \n",
       "1                                                                                                               shinigami, as a god of death, can kill any person—provided they see their victim's face and write their victim's name in a notebook called a Death Note. One day, Ryuk, bored by the shinigami lifestyle and interested in seeing how a human would use a Death Note, drops one into the human realm. High school student and prodigy Light Yagami stumbles upon the Death Note and—since he deplores the state of the world—tests the deadly notebook by writing a criminal's name in it. When the criminal dies immediately following his experiment with the Death Note, Light is greatly surprised and quickly recognizes how devastating the power that has fallen into his hands could be. With this divine capability, Light decides to extinguish all criminals in order to build a new world where crime does not exist and people worship him as a god. Police, however, quickly discover that a serial killer is targeting criminals and, consequently, try to apprehend the culprit. To do this, the Japanese investigators count on the assistance of the best detective in the world: a young and eccentric man known only by the name of L.  \n",
       "0  Centuries ago, mankind was slaughtered to near extinction by monstrous humanoid creatures called titans, forcing humans to hide in fear behind enormous concentric walls. What makes these giants truly terrifying is that their taste for human flesh is not born out of hunger but what appears to be out of pleasure. To ensure their survival, the remnants of humanity began living within defensive barriers, resulting in one hundred years without a single titan encounter. However, that fragile calm is soon shattered when a colossal titan manages to breach the supposedly impregnable outer wall, reigniting the fight for survival against the man-eating abominations. After witnessing a horrific personal loss at the hands of the invading creatures, Eren Yeager dedicates his life to their eradication by enlisting into the Survey Corps, an elite military unit that combats the merciless humanoids outside the protection of the walls. Based on Hajime Isayama's award-winning manga, Shingeki no Kyojin follows Eren, along with his adopted sister Mikasa Ackerman and his childhood friend Armin Arlert, as they join the brutal war against the titans and race to discover a way of defeating them before the last walls are breached.  "
      ]
     },
     "execution_count": 23,
     "metadata": {},
     "output_type": "execute_result"
    }
   ],
   "source": [
    "find_similar_animes('Dragon Ball Z', n=5, neg=False)"
   ]
  },
  {
   "cell_type": "code",
   "execution_count": 24,
   "id": "dd138a8e",
   "metadata": {
    "execution": {
     "iopub.execute_input": "2023-05-17T06:56:17.680513Z",
     "iopub.status.busy": "2023-05-17T06:56:17.678653Z",
     "iopub.status.idle": "2023-05-17T06:56:17.719729Z",
     "shell.execute_reply": "2023-05-17T06:56:17.718721Z"
    },
    "papermill": {
     "duration": 0.291852,
     "end_time": "2023-05-17T06:56:17.723068",
     "exception": false,
     "start_time": "2023-05-17T06:56:17.431216",
     "status": "completed"
    },
    "tags": []
   },
   "outputs": [
    {
     "name": "stdout",
     "output_type": "stream",
     "text": [
      "animes closest to Your Name.\n"
     ]
    },
    {
     "data": {
      "text/html": [
       "<div>\n",
       "<style scoped>\n",
       "    .dataframe tbody tr th:only-of-type {\n",
       "        vertical-align: middle;\n",
       "    }\n",
       "\n",
       "    .dataframe tbody tr th {\n",
       "        vertical-align: top;\n",
       "    }\n",
       "\n",
       "    .dataframe thead th {\n",
       "        text-align: right;\n",
       "    }\n",
       "</style>\n",
       "<table border=\"1\" class=\"dataframe\">\n",
       "  <thead>\n",
       "    <tr style=\"text-align: right;\">\n",
       "      <th></th>\n",
       "      <th>name</th>\n",
       "      <th>similarity</th>\n",
       "      <th>genre</th>\n",
       "      <th>sypnopsis</th>\n",
       "    </tr>\n",
       "  </thead>\n",
       "  <tbody>\n",
       "    <tr>\n",
       "      <th>4</th>\n",
       "      <td>A Silent Voice</td>\n",
       "      <td>0.991338</td>\n",
       "      <td>Drama, School, Shounen</td>\n",
       "      <td>s a wild youth, elementary school student Shouya Ishida sought to beat boredom in the cruelest ways. When the deaf Shouko Nishimiya transfers into his class, Shouya and the rest of his class thoughtlessly bully her for fun. However, when her mother notifies the school, he is singled out and blamed for everything done to her. With Shouko transferring out of the school, Shouya is left at the mercy of his classmates. He is heartlessly ostracized all throughout elementary and middle school, while teachers turn a blind eye. Now in his third year of high school, Shouya is still plagued by his wrongdoings as a young boy. Sincerely regretting his past actions, he sets out on a journey of redemption: to meet Shouko once more and make amends. Koe no Katachi tells the heartwarming tale of Shouya's reunion with Shouko and his honest attempts to redeem himself, all while being continually haunted by the shadows of his past.</td>\n",
       "    </tr>\n",
       "    <tr>\n",
       "      <th>3</th>\n",
       "      <td>One Punch Man</td>\n",
       "      <td>0.984822</td>\n",
       "      <td>Action, Sci-Fi, Comedy, Parody, Super Power, Supernatural</td>\n",
       "      <td>The seemingly ordinary and unimpressive Saitama has a rather unique hobby: being a hero. In order to pursue his childhood dream, he trained relentlessly for three years—and lost all of his hair in the process. Now, Saitama is incredibly powerful, so much so that no enemy is able to defeat him in battle. In fact, all it takes to defeat evildoers with just one punch has led to an unexpected problem—he is no longer able to enjoy the thrill of battling and has become quite bored. This all changes with the arrival of Genos, a 19-year-old cyborg, who wishes to be Saitama's disciple after seeing what he is capable of. Genos proposes that the two join the Hero Association in order to become certified heroes that will be recognized for their positive contributions to society, and Saitama, shocked that no one knows who he is, quickly agrees. And thus begins the story of One Punch Man , an action-comedy that follows an eccentric individual who longs to fight strong enemies that can hopefully give him the excitement he once felt and just maybe, he'll become popular in the process.</td>\n",
       "    </tr>\n",
       "    <tr>\n",
       "      <th>2</th>\n",
       "      <td>My Hero Academia</td>\n",
       "      <td>0.980152</td>\n",
       "      <td>Action, Comedy, School, Shounen, Super Power</td>\n",
       "      <td>The appearance of \"quirks,\" newly discovered super powers, has been steadily increasing over the years, with 80 percent of humanity possessing various abilities from manipulation of elements to shapeshifting. This leaves the remainder of the world completely powerless, and Izuku Midoriya is one such individual. Since he was a child, the ambitious middle schooler has wanted nothing more than to be a hero. Izuku's unfair fate leaves him admiring heroes and taking notes on them whenever he can. But it seems that his persistence has borne some fruit: Izuku meets the number one hero and his personal idol, All Might. All Might's quirk is a unique ability that can be inherited, and he has chosen Izuku to be his successor! Enduring many months of grueling training, Izuku enrolls in UA High, a prestigious high school famous for its excellent hero training program, and this year's freshmen look especially promising. With his bizarre but talented classmates and the looming threat of a villainous organization, Izuku will soon learn what it really means to be a hero.</td>\n",
       "    </tr>\n",
       "    <tr>\n",
       "      <th>1</th>\n",
       "      <td>My Hero Academia 2</td>\n",
       "      <td>0.979531</td>\n",
       "      <td>Action, Comedy, Super Power, School, Shounen</td>\n",
       "      <td>UA Academy, not even a violent attack can disrupt their most prestigious event: the school sports festival. Renowned across Japan, this festival is an opportunity for aspiring heroes to showcase their abilities, both to the public and potential recruiters. However, the path to glory is never easy, especially for Izuku Midoriya—whose quirk possesses great raw power but is also cripplingly inefficient. Pitted against his talented classmates, such as the fire and ice wielding Shouto Todoroki, Izuku must utilize his sharp wits and master his surroundings to achieve victory and prove to the world his worth.</td>\n",
       "    </tr>\n",
       "    <tr>\n",
       "      <th>0</th>\n",
       "      <td>Attack on Titan</td>\n",
       "      <td>0.979151</td>\n",
       "      <td>Action, Military, Mystery, Super Power, Drama, Fantasy, Shounen</td>\n",
       "      <td>Centuries ago, mankind was slaughtered to near extinction by monstrous humanoid creatures called titans, forcing humans to hide in fear behind enormous concentric walls. What makes these giants truly terrifying is that their taste for human flesh is not born out of hunger but what appears to be out of pleasure. To ensure their survival, the remnants of humanity began living within defensive barriers, resulting in one hundred years without a single titan encounter. However, that fragile calm is soon shattered when a colossal titan manages to breach the supposedly impregnable outer wall, reigniting the fight for survival against the man-eating abominations. After witnessing a horrific personal loss at the hands of the invading creatures, Eren Yeager dedicates his life to their eradication by enlisting into the Survey Corps, an elite military unit that combats the merciless humanoids outside the protection of the walls. Based on Hajime Isayama's award-winning manga, Shingeki no Kyojin follows Eren, along with his adopted sister Mikasa Ackerman and his childhood friend Armin Arlert, as they join the brutal war against the titans and race to discover a way of defeating them before the last walls are breached.</td>\n",
       "    </tr>\n",
       "  </tbody>\n",
       "</table>\n",
       "</div>"
      ],
      "text/plain": [
       "                 name  similarity  \\\n",
       "4      A Silent Voice    0.991338   \n",
       "3       One Punch Man    0.984822   \n",
       "2    My Hero Academia    0.980152   \n",
       "1  My Hero Academia 2    0.979531   \n",
       "0     Attack on Titan    0.979151   \n",
       "\n",
       "                                                             genre  \\\n",
       "4                                           Drama, School, Shounen   \n",
       "3        Action, Sci-Fi, Comedy, Parody, Super Power, Supernatural   \n",
       "2                     Action, Comedy, School, Shounen, Super Power   \n",
       "1                     Action, Comedy, Super Power, School, Shounen   \n",
       "0  Action, Military, Mystery, Super Power, Drama, Fantasy, Shounen   \n",
       "\n",
       "                                                                                                                                                                                                                                                                                                                                                                                                                                                                                                                                                                                                                                                                                                                                                                                                                                                                                                                                                                                                                                                                                                                                                                                                                                                                 sypnopsis  \n",
       "4                                                                                                                                                                                                                                                                                                             s a wild youth, elementary school student Shouya Ishida sought to beat boredom in the cruelest ways. When the deaf Shouko Nishimiya transfers into his class, Shouya and the rest of his class thoughtlessly bully her for fun. However, when her mother notifies the school, he is singled out and blamed for everything done to her. With Shouko transferring out of the school, Shouya is left at the mercy of his classmates. He is heartlessly ostracized all throughout elementary and middle school, while teachers turn a blind eye. Now in his third year of high school, Shouya is still plagued by his wrongdoings as a young boy. Sincerely regretting his past actions, he sets out on a journey of redemption: to meet Shouko once more and make amends. Koe no Katachi tells the heartwarming tale of Shouya's reunion with Shouko and his honest attempts to redeem himself, all while being continually haunted by the shadows of his past.  \n",
       "3                                                                                                                                            The seemingly ordinary and unimpressive Saitama has a rather unique hobby: being a hero. In order to pursue his childhood dream, he trained relentlessly for three years—and lost all of his hair in the process. Now, Saitama is incredibly powerful, so much so that no enemy is able to defeat him in battle. In fact, all it takes to defeat evildoers with just one punch has led to an unexpected problem—he is no longer able to enjoy the thrill of battling and has become quite bored. This all changes with the arrival of Genos, a 19-year-old cyborg, who wishes to be Saitama's disciple after seeing what he is capable of. Genos proposes that the two join the Hero Association in order to become certified heroes that will be recognized for their positive contributions to society, and Saitama, shocked that no one knows who he is, quickly agrees. And thus begins the story of One Punch Man , an action-comedy that follows an eccentric individual who longs to fight strong enemies that can hopefully give him the excitement he once felt and just maybe, he'll become popular in the process.  \n",
       "2                                                                                                                                                           The appearance of \"quirks,\" newly discovered super powers, has been steadily increasing over the years, with 80 percent of humanity possessing various abilities from manipulation of elements to shapeshifting. This leaves the remainder of the world completely powerless, and Izuku Midoriya is one such individual. Since he was a child, the ambitious middle schooler has wanted nothing more than to be a hero. Izuku's unfair fate leaves him admiring heroes and taking notes on them whenever he can. But it seems that his persistence has borne some fruit: Izuku meets the number one hero and his personal idol, All Might. All Might's quirk is a unique ability that can be inherited, and he has chosen Izuku to be his successor! Enduring many months of grueling training, Izuku enrolls in UA High, a prestigious high school famous for its excellent hero training program, and this year's freshmen look especially promising. With his bizarre but talented classmates and the looming threat of a villainous organization, Izuku will soon learn what it really means to be a hero.  \n",
       "1                                                                                                                                                                                                                                                                                                                                                                                                                                                                                                                                                                                                                                        UA Academy, not even a violent attack can disrupt their most prestigious event: the school sports festival. Renowned across Japan, this festival is an opportunity for aspiring heroes to showcase their abilities, both to the public and potential recruiters. However, the path to glory is never easy, especially for Izuku Midoriya—whose quirk possesses great raw power but is also cripplingly inefficient. Pitted against his talented classmates, such as the fire and ice wielding Shouto Todoroki, Izuku must utilize his sharp wits and master his surroundings to achieve victory and prove to the world his worth.  \n",
       "0  Centuries ago, mankind was slaughtered to near extinction by monstrous humanoid creatures called titans, forcing humans to hide in fear behind enormous concentric walls. What makes these giants truly terrifying is that their taste for human flesh is not born out of hunger but what appears to be out of pleasure. To ensure their survival, the remnants of humanity began living within defensive barriers, resulting in one hundred years without a single titan encounter. However, that fragile calm is soon shattered when a colossal titan manages to breach the supposedly impregnable outer wall, reigniting the fight for survival against the man-eating abominations. After witnessing a horrific personal loss at the hands of the invading creatures, Eren Yeager dedicates his life to their eradication by enlisting into the Survey Corps, an elite military unit that combats the merciless humanoids outside the protection of the walls. Based on Hajime Isayama's award-winning manga, Shingeki no Kyojin follows Eren, along with his adopted sister Mikasa Ackerman and his childhood friend Armin Arlert, as they join the brutal war against the titans and race to discover a way of defeating them before the last walls are breached.  "
      ]
     },
     "execution_count": 24,
     "metadata": {},
     "output_type": "execute_result"
    }
   ],
   "source": [
    "find_similar_animes('Your Name.', n=5, neg=False)"
   ]
  },
  {
   "cell_type": "code",
   "execution_count": 25,
   "id": "3bfe0444",
   "metadata": {
    "execution": {
     "iopub.execute_input": "2023-05-17T06:56:18.768267Z",
     "iopub.status.busy": "2023-05-17T06:56:18.767921Z",
     "iopub.status.idle": "2023-05-17T06:56:18.792712Z",
     "shell.execute_reply": "2023-05-17T06:56:18.791647Z"
    },
    "papermill": {
     "duration": 0.258581,
     "end_time": "2023-05-17T06:56:18.796298",
     "exception": false,
     "start_time": "2023-05-17T06:56:18.537717",
     "status": "completed"
    },
    "tags": []
   },
   "outputs": [
    {
     "name": "stdout",
     "output_type": "stream",
     "text": [
      "animes closest to Sword Art Online\n"
     ]
    },
    {
     "data": {
      "text/html": [
       "<div>\n",
       "<style scoped>\n",
       "    .dataframe tbody tr th:only-of-type {\n",
       "        vertical-align: middle;\n",
       "    }\n",
       "\n",
       "    .dataframe tbody tr th {\n",
       "        vertical-align: top;\n",
       "    }\n",
       "\n",
       "    .dataframe thead th {\n",
       "        text-align: right;\n",
       "    }\n",
       "</style>\n",
       "<table border=\"1\" class=\"dataframe\">\n",
       "  <thead>\n",
       "    <tr style=\"text-align: right;\">\n",
       "      <th></th>\n",
       "      <th>name</th>\n",
       "      <th>similarity</th>\n",
       "      <th>genre</th>\n",
       "      <th>sypnopsis</th>\n",
       "    </tr>\n",
       "  </thead>\n",
       "  <tbody>\n",
       "    <tr>\n",
       "      <th>4</th>\n",
       "      <td>No Game, No Life</td>\n",
       "      <td>0.962602</td>\n",
       "      <td>Game, Adventure, Comedy, Supernatural, Ecchi, Fantasy</td>\n",
       "      <td>No Game No Life is a surreal comedy that follows Sora and Shiro, shut-in NEET siblings and the online gamer duo behind the legendary username \"Blank.\" They view the real world as just another lousy game; however, a strange e-mail challenging them to a chess match changes everything—the brother and sister are plunged into an otherworldly realm where they meet Tet, the God of Games. The mysterious god welcomes Sora and Shiro to Disboard, a world where all forms of conflict—from petty squabbles to the fate of whole countries—are settled not through war, but by way of high-stake games. This system works thanks to a fundamental rule wherein each party must wager something they deem to be of equal value to the other party's wager. In this strange land where the very idea of humanity is reduced to child's play, the indifferent genius gamer duo of Sora and Shiro have finally found a real reason to keep playing games: to unite the sixteen races of Disboard, defeat Tet, and become the gods of this new, gaming-is-everything world.</td>\n",
       "    </tr>\n",
       "    <tr>\n",
       "      <th>3</th>\n",
       "      <td>Tokyo Ghoul</td>\n",
       "      <td>0.959431</td>\n",
       "      <td>Action, Mystery, Horror, Psychological, Supernatural, Drama, Seinen</td>\n",
       "      <td>Tokyo has become a cruel and merciless city—a place where vicious creatures called \"ghouls\" exist alongside humans. The citizens of this once great metropolis live in constant fear of these bloodthirsty savages and their thirst for human flesh. However, the greatest threat these ghouls pose is their dangerous ability to masquerade as humans and blend in with society. Based on the best-selling supernatural horror manga by Sui Ishida, Tokyo Ghoul follows Ken Kaneki, a shy, bookish college student, who is instantly drawn to Rize Kamishiro, an avid reader like himself. However, Rize is not exactly who she seems, and this unfortunate meeting pushes Kaneki into the dark depths of the ghouls' inhuman world. In a twist of fate, Kaneki is saved by the enigmatic waitress Touka Kirishima, and thus begins his new, secret life as a half-ghoul/half-human who must find a way to integrate into both societies.</td>\n",
       "    </tr>\n",
       "    <tr>\n",
       "      <th>2</th>\n",
       "      <td>The Devil is a Part-Timer!</td>\n",
       "      <td>0.946412</td>\n",
       "      <td>Comedy, Demons, Supernatural, Romance, Fantasy</td>\n",
       "      <td>Striking fear into the hearts of mortals, the Demon Lord Satan begins to conquer the land of Ente Isla with his vast demon armies. However, while embarking on this brutal quest to take over the continent, his efforts are foiled by the hero Emilia, forcing Satan to make his swift retreat through a dimensional portal only to land in the human world. Along with his loyal general Alsiel, the demon finds himself stranded in modern-day Tokyo and vows to return and complete his subjugation of Ente Isla—that is, if they can find a way back! Powerless in a world without magic, Satan assumes the guise of a human named Sadao Maou and begins working at MgRonald's—a local fast-food restaurant—to make ends meet. He soon realizes that his goal of conquering Ente Isla is just not enough as he grows determined to climb the corporate ladder and become the ruler of Earth, one satisfied customer at a time! Whether it's part-time work, household chores, or simply trying to pay the rent on time, Hataraku Maou-sama! presents a hilarious view of the most mundane aspects of everyday life, all through the eyes of a hapless demon lord.</td>\n",
       "    </tr>\n",
       "    <tr>\n",
       "      <th>1</th>\n",
       "      <td>Naruto</td>\n",
       "      <td>0.941287</td>\n",
       "      <td>Action, Adventure, Comedy, Super Power, Martial Arts, Shounen</td>\n",
       "      <td>oments prior to Naruto Uzumaki's birth, a huge demon known as the Kyuubi, the Nine-Tailed Fox, attacked Konohagakure, the Hidden Leaf Village, and wreaked havoc. In order to put an end to the Kyuubi's rampage, the leader of the village, the Fourth Hokage, sacrificed his life and sealed the monstrous beast inside the newborn Naruto. Now, Naruto is a hyperactive and knuckle-headed ninja still living in Konohagakure. Shunned because of the Kyuubi inside him, Naruto struggles to find his place in the village, while his burning desire to become the Hokage of Konohagakure leads him not only to some great new friends, but also some deadly foes.</td>\n",
       "    </tr>\n",
       "    <tr>\n",
       "      <th>0</th>\n",
       "      <td>Angel Beats!</td>\n",
       "      <td>0.938996</td>\n",
       "      <td>Action, Comedy, Drama, School, Supernatural</td>\n",
       "      <td>Otonashi awakens only to learn he is dead. A rifle-toting girl named Yuri explains that they are in the afterlife, and Otonashi realizes the only thing he can remember about himself is his name. Yuri tells him that she leads the Shinda Sekai Sensen (Afterlife Battlefront) and wages war against a girl named Tenshi. Unable to believe Yuri's claims that Tenshi is evil, Otonashi attempts to speak with her, but the encounter doesn't go as he intended. Otonashi decides to join the SSS and battle Tenshi, but he finds himself oddly drawn to her. While trying to regain his memories and understand Tenshi, he gradually unravels the mysteries of the afterlife.</td>\n",
       "    </tr>\n",
       "  </tbody>\n",
       "</table>\n",
       "</div>"
      ],
      "text/plain": [
       "                         name  similarity  \\\n",
       "4            No Game, No Life    0.962602   \n",
       "3                 Tokyo Ghoul    0.959431   \n",
       "2  The Devil is a Part-Timer!    0.946412   \n",
       "1                      Naruto    0.941287   \n",
       "0                Angel Beats!    0.938996   \n",
       "\n",
       "                                                                 genre  \\\n",
       "4                Game, Adventure, Comedy, Supernatural, Ecchi, Fantasy   \n",
       "3  Action, Mystery, Horror, Psychological, Supernatural, Drama, Seinen   \n",
       "2                       Comedy, Demons, Supernatural, Romance, Fantasy   \n",
       "1        Action, Adventure, Comedy, Super Power, Martial Arts, Shounen   \n",
       "0                          Action, Comedy, Drama, School, Supernatural   \n",
       "\n",
       "                                                                                                                                                                                                                                                                                                                                                                                                                                                                                                                                                                                                                                                                                                                                                                                                                                                                                                                                                                                                                                                                                                                                                                sypnopsis  \n",
       "4                                                                                             No Game No Life is a surreal comedy that follows Sora and Shiro, shut-in NEET siblings and the online gamer duo behind the legendary username \"Blank.\" They view the real world as just another lousy game; however, a strange e-mail challenging them to a chess match changes everything—the brother and sister are plunged into an otherworldly realm where they meet Tet, the God of Games. The mysterious god welcomes Sora and Shiro to Disboard, a world where all forms of conflict—from petty squabbles to the fate of whole countries—are settled not through war, but by way of high-stake games. This system works thanks to a fundamental rule wherein each party must wager something they deem to be of equal value to the other party's wager. In this strange land where the very idea of humanity is reduced to child's play, the indifferent genius gamer duo of Sora and Shiro have finally found a real reason to keep playing games: to unite the sixteen races of Disboard, defeat Tet, and become the gods of this new, gaming-is-everything world.  \n",
       "3                                                                                                                                                                                                                              Tokyo has become a cruel and merciless city—a place where vicious creatures called \"ghouls\" exist alongside humans. The citizens of this once great metropolis live in constant fear of these bloodthirsty savages and their thirst for human flesh. However, the greatest threat these ghouls pose is their dangerous ability to masquerade as humans and blend in with society. Based on the best-selling supernatural horror manga by Sui Ishida, Tokyo Ghoul follows Ken Kaneki, a shy, bookish college student, who is instantly drawn to Rize Kamishiro, an avid reader like himself. However, Rize is not exactly who she seems, and this unfortunate meeting pushes Kaneki into the dark depths of the ghouls' inhuman world. In a twist of fate, Kaneki is saved by the enigmatic waitress Touka Kirishima, and thus begins his new, secret life as a half-ghoul/half-human who must find a way to integrate into both societies.  \n",
       "2  Striking fear into the hearts of mortals, the Demon Lord Satan begins to conquer the land of Ente Isla with his vast demon armies. However, while embarking on this brutal quest to take over the continent, his efforts are foiled by the hero Emilia, forcing Satan to make his swift retreat through a dimensional portal only to land in the human world. Along with his loyal general Alsiel, the demon finds himself stranded in modern-day Tokyo and vows to return and complete his subjugation of Ente Isla—that is, if they can find a way back! Powerless in a world without magic, Satan assumes the guise of a human named Sadao Maou and begins working at MgRonald's—a local fast-food restaurant—to make ends meet. He soon realizes that his goal of conquering Ente Isla is just not enough as he grows determined to climb the corporate ladder and become the ruler of Earth, one satisfied customer at a time! Whether it's part-time work, household chores, or simply trying to pay the rent on time, Hataraku Maou-sama! presents a hilarious view of the most mundane aspects of everyday life, all through the eyes of a hapless demon lord.  \n",
       "1                                                                                                                                                                                                                                                                                                                                                                                                                                                                                                   oments prior to Naruto Uzumaki's birth, a huge demon known as the Kyuubi, the Nine-Tailed Fox, attacked Konohagakure, the Hidden Leaf Village, and wreaked havoc. In order to put an end to the Kyuubi's rampage, the leader of the village, the Fourth Hokage, sacrificed his life and sealed the monstrous beast inside the newborn Naruto. Now, Naruto is a hyperactive and knuckle-headed ninja still living in Konohagakure. Shunned because of the Kyuubi inside him, Naruto struggles to find his place in the village, while his burning desire to become the Hokage of Konohagakure leads him not only to some great new friends, but also some deadly foes.  \n",
       "0                                                                                                                                                                                                                                                                                                                                                                                                                                                                                        Otonashi awakens only to learn he is dead. A rifle-toting girl named Yuri explains that they are in the afterlife, and Otonashi realizes the only thing he can remember about himself is his name. Yuri tells him that she leads the Shinda Sekai Sensen (Afterlife Battlefront) and wages war against a girl named Tenshi. Unable to believe Yuri's claims that Tenshi is evil, Otonashi attempts to speak with her, but the encounter doesn't go as he intended. Otonashi decides to join the SSS and battle Tenshi, but he finds himself oddly drawn to her. While trying to regain his memories and understand Tenshi, he gradually unravels the mysteries of the afterlife.  "
      ]
     },
     "execution_count": 25,
     "metadata": {},
     "output_type": "execute_result"
    }
   ],
   "source": [
    "find_similar_animes('Sword Art Online', n=5, neg=False)"
   ]
  },
  {
   "cell_type": "markdown",
   "id": "9e8ca9ae",
   "metadata": {
    "papermill": {
     "duration": 0.226593,
     "end_time": "2023-05-17T06:56:19.273908",
     "exception": false,
     "start_time": "2023-05-17T06:56:19.047315",
     "status": "completed"
    },
    "tags": []
   },
   "source": [
    "![](https://steamuserimages-a.akamaihd.net/ugc/993512070845192516/C18040A95DB14DD58438DDDEBF721BA8ABAD0E84/)"
   ]
  },
  {
   "cell_type": "code",
   "execution_count": 26,
   "id": "5e5ebe7b",
   "metadata": {
    "execution": {
     "iopub.execute_input": "2023-05-17T06:56:19.722629Z",
     "iopub.status.busy": "2023-05-17T06:56:19.721707Z",
     "iopub.status.idle": "2023-05-17T06:56:19.749109Z",
     "shell.execute_reply": "2023-05-17T06:56:19.748144Z"
    },
    "papermill": {
     "duration": 0.256917,
     "end_time": "2023-05-17T06:56:19.751197",
     "exception": false,
     "start_time": "2023-05-17T06:56:19.494280",
     "status": "completed"
    },
    "tags": []
   },
   "outputs": [
    {
     "name": "stdout",
     "output_type": "stream",
     "text": [
      "animes closest to Black Clover\n"
     ]
    },
    {
     "data": {
      "text/html": [
       "<div>\n",
       "<style scoped>\n",
       "    .dataframe tbody tr th:only-of-type {\n",
       "        vertical-align: middle;\n",
       "    }\n",
       "\n",
       "    .dataframe tbody tr th {\n",
       "        vertical-align: top;\n",
       "    }\n",
       "\n",
       "    .dataframe thead th {\n",
       "        text-align: right;\n",
       "    }\n",
       "</style>\n",
       "<table border=\"1\" class=\"dataframe\">\n",
       "  <thead>\n",
       "    <tr style=\"text-align: right;\">\n",
       "      <th></th>\n",
       "      <th>name</th>\n",
       "      <th>similarity</th>\n",
       "      <th>genre</th>\n",
       "      <th>sypnopsis</th>\n",
       "    </tr>\n",
       "  </thead>\n",
       "  <tbody>\n",
       "    <tr>\n",
       "      <th>4</th>\n",
       "      <td>Gleipnir</td>\n",
       "      <td>0.623096</td>\n",
       "      <td>Action, Mystery, Supernatural, Ecchi, Seinen</td>\n",
       "      <td>Shuuichi Kagaya is what one would consider an average high school student, but sometimes, he turns into a monster. He doesn't know how or why he got his abilities, only that he would prefer no one knows about them. One night, he finds a building ablaze with a girl trapped inside. Deciding to save her, he transforms and carries her to safety, but accidentally drops his phone. The next day, the girl he saved—Claire Aoki—finds him and confronts him about his monster identity. She even goes so far as to push him off the school roof to prove her theory after Shuuichi denies her allegations. Desperate to save himself, he transforms, and Claire snaps a picture in order to blackmail him into telling her everything he knows about monsters, which, ironically, isn't much. As it turns out, Claire has a secret of her own: she has been searching for her sister, who also became a monster. She enlists Shuuichi's help to track her down, but they aren't the only ones searching for answers.</td>\n",
       "    </tr>\n",
       "    <tr>\n",
       "      <th>3</th>\n",
       "      <td>Fire Force</td>\n",
       "      <td>0.614839</td>\n",
       "      <td>Action, Supernatural, Shounen</td>\n",
       "      <td>Spontaneous Human Combustion: a chaotic phenomenon that has plagued humanity for years, randomly transforming ordinary people into flaming, violent creatures known as Infernals. While Infernals make up the first-generation accounts of Human Combustion, the second and third generations became known as pyrokinetics—people gifted with the ability to manipulate and control their flames while remaining human. To combat the Infernal threat and discover the cause, the Tokyo Armed Forces, Fire Defense Agency, and Holy Church of Sol produced their answer: the Special Fire Force. Young and eager third-generation pyrokinetic Shinra Kusakabe, nicknamed Devil's Footprints for his explosive ability to ignite his feet at will, becomes a member of the lively Special Fire Force Company 8. Upholding the brigade's duty to extinguish the blazing Infernals and lay their souls to rest, Shinra is determined to become a hero who will save the lives of those threatened by the flame terror. However, this is not the hero's game Shinra imagined. The Fire Force is a fractured mess of feuding brigades, abnormal Infernal sightings are increasing all over Tokyo, and a shadowy group is claiming to have answers to the strange fire that caused the death of Shinra's family 12 years ago. Faced with many obstacles within and outside the Fire Force, Shinra fights to uncover the truth behind the burning mysteries that have kept him in the dark.</td>\n",
       "    </tr>\n",
       "    <tr>\n",
       "      <th>2</th>\n",
       "      <td>Seven Senses of the Re'Union</td>\n",
       "      <td>0.606204</td>\n",
       "      <td>Action, Fantasy, Game, Sci-Fi</td>\n",
       "      <td>sahi's life in reality ended simultaneously when she died playing Union , a world-renowned online RPG. The members of Subaru went separate ways when Union shut down due to Asahi's death. Six years later, Haruto logs onto a renewed version of Re'Union and reunites with Asahi who had died. Is it really her or just an electronic ghost? The former team members reunite and enter the mysterious and deadly online game to find out. (Source: TBS Global Business)</td>\n",
       "    </tr>\n",
       "    <tr>\n",
       "      <th>1</th>\n",
       "      <td>Boruto:Naruto Next Generations</td>\n",
       "      <td>0.600506</td>\n",
       "      <td>Action, Adventure, Super Power, Martial Arts, Shounen</td>\n",
       "      <td>Following the successful end of the Fourth Shinobi World War, Konohagakure has been enjoying a period of peace, prosperity, and extraordinary technological advancement. This is all due to the efforts of the Allied Shinobi Forces and the village's Seventh Hokage, Naruto Uzumaki. Now resembling a modern metropolis, Konohagakure has changed, particularly the life of a shinobi. Under the watchful eye of Naruto and his old comrades, a new generation of shinobi has stepped up to learn the ways of the ninja. Boruto Uzumaki is often the center of attention as the son of the Seventh Hokage. Despite having inherited Naruto's boisterous and stubborn demeanor, Boruto is considered a prodigy and is able to unleash his potential with the help of supportive friends and family. Unfortunately, this has only worsened his arrogance and his desire to surpass Naruto which, along with his father's busy lifestyle, has strained their relationship. However, a sinister force brewing within the village may threaten Boruto's carefree life. New friends and familiar faces join Boruto as a new story begins in Boruto: Naruto Next Generations .</td>\n",
       "    </tr>\n",
       "    <tr>\n",
       "      <th>0</th>\n",
       "      <td>Beatless</td>\n",
       "      <td>0.585362</td>\n",
       "      <td>Action, Drama, Romance, Sci-Fi</td>\n",
       "      <td>h great advancements in technology, mankind has created hIEs, human-like robots that act as public and personal servants for society. Unlike many others, the kind-hearted high school student Arato Endou treats hIEs as equals, but his financial situation keeps him from ever owning one. However, his normal life is shattered when an ordinary run to the local grocery store goes horribly awry. Viciously assaulted by a hacked hIE, Arato is on the verge of death; but luckily, he is saved by an abnormal hIE carrying a weaponized coffin. Her name is Lacia, one of five highly advanced hIEs that recently escaped the clutches of the mysterious MemeFrame Corporation. Faced with a hacked car threatening to run them over, Lacia offers Arato a deal: in exchange for saving his life, he must register as her new owner, thus taking full responsibility for her actions. With little choice, he decides to trust this artificial girl and allows her to live in his home. Though Lacia begins to adapt to her new, peaceful lifestyle, she warns the entranced Arato of one thing—she does not have a soul.</td>\n",
       "    </tr>\n",
       "  </tbody>\n",
       "</table>\n",
       "</div>"
      ],
      "text/plain": [
       "                             name  similarity  \\\n",
       "4                        Gleipnir    0.623096   \n",
       "3                      Fire Force    0.614839   \n",
       "2    Seven Senses of the Re'Union    0.606204   \n",
       "1  Boruto:Naruto Next Generations    0.600506   \n",
       "0                        Beatless    0.585362   \n",
       "\n",
       "                                                   genre  \\\n",
       "4           Action, Mystery, Supernatural, Ecchi, Seinen   \n",
       "3                          Action, Supernatural, Shounen   \n",
       "2                          Action, Fantasy, Game, Sci-Fi   \n",
       "1  Action, Adventure, Super Power, Martial Arts, Shounen   \n",
       "0                         Action, Drama, Romance, Sci-Fi   \n",
       "\n",
       "                                                                                                                                                                                                                                                                                                                                                                                                                                                                                                                                                                                                                                                                                                                                                                                                                                                                                                                                                                                                                                                                                                                                                                                                                                                                                                                                                                                                                                                                              sypnopsis  \n",
       "4                                                                                                                                                                                                                                                                                                                                                                                                                                                            Shuuichi Kagaya is what one would consider an average high school student, but sometimes, he turns into a monster. He doesn't know how or why he got his abilities, only that he would prefer no one knows about them. One night, he finds a building ablaze with a girl trapped inside. Deciding to save her, he transforms and carries her to safety, but accidentally drops his phone. The next day, the girl he saved—Claire Aoki—finds him and confronts him about his monster identity. She even goes so far as to push him off the school roof to prove her theory after Shuuichi denies her allegations. Desperate to save himself, he transforms, and Claire snaps a picture in order to blackmail him into telling her everything he knows about monsters, which, ironically, isn't much. As it turns out, Claire has a secret of her own: she has been searching for her sister, who also became a monster. She enlists Shuuichi's help to track her down, but they aren't the only ones searching for answers.  \n",
       "3  Spontaneous Human Combustion: a chaotic phenomenon that has plagued humanity for years, randomly transforming ordinary people into flaming, violent creatures known as Infernals. While Infernals make up the first-generation accounts of Human Combustion, the second and third generations became known as pyrokinetics—people gifted with the ability to manipulate and control their flames while remaining human. To combat the Infernal threat and discover the cause, the Tokyo Armed Forces, Fire Defense Agency, and Holy Church of Sol produced their answer: the Special Fire Force. Young and eager third-generation pyrokinetic Shinra Kusakabe, nicknamed Devil's Footprints for his explosive ability to ignite his feet at will, becomes a member of the lively Special Fire Force Company 8. Upholding the brigade's duty to extinguish the blazing Infernals and lay their souls to rest, Shinra is determined to become a hero who will save the lives of those threatened by the flame terror. However, this is not the hero's game Shinra imagined. The Fire Force is a fractured mess of feuding brigades, abnormal Infernal sightings are increasing all over Tokyo, and a shadowy group is claiming to have answers to the strange fire that caused the death of Shinra's family 12 years ago. Faced with many obstacles within and outside the Fire Force, Shinra fights to uncover the truth behind the burning mysteries that have kept him in the dark.  \n",
       "2                                                                                                                                                                                                                                                                                                                                                                                                                                                                                                                                                                                                                                                                                                                                                                                                                                                                                                                                                                                                             sahi's life in reality ended simultaneously when she died playing Union , a world-renowned online RPG. The members of Subaru went separate ways when Union shut down due to Asahi's death. Six years later, Haruto logs onto a renewed version of Re'Union and reunites with Asahi who had died. Is it really her or just an electronic ghost? The former team members reunite and enter the mysterious and deadly online game to find out. (Source: TBS Global Business)  \n",
       "1                                                                                                                                                                                                                                                                                                             Following the successful end of the Fourth Shinobi World War, Konohagakure has been enjoying a period of peace, prosperity, and extraordinary technological advancement. This is all due to the efforts of the Allied Shinobi Forces and the village's Seventh Hokage, Naruto Uzumaki. Now resembling a modern metropolis, Konohagakure has changed, particularly the life of a shinobi. Under the watchful eye of Naruto and his old comrades, a new generation of shinobi has stepped up to learn the ways of the ninja. Boruto Uzumaki is often the center of attention as the son of the Seventh Hokage. Despite having inherited Naruto's boisterous and stubborn demeanor, Boruto is considered a prodigy and is able to unleash his potential with the help of supportive friends and family. Unfortunately, this has only worsened his arrogance and his desire to surpass Naruto which, along with his father's busy lifestyle, has strained their relationship. However, a sinister force brewing within the village may threaten Boruto's carefree life. New friends and familiar faces join Boruto as a new story begins in Boruto: Naruto Next Generations .  \n",
       "0                                                                                                                                                                                                                                                                                                                                                       h great advancements in technology, mankind has created hIEs, human-like robots that act as public and personal servants for society. Unlike many others, the kind-hearted high school student Arato Endou treats hIEs as equals, but his financial situation keeps him from ever owning one. However, his normal life is shattered when an ordinary run to the local grocery store goes horribly awry. Viciously assaulted by a hacked hIE, Arato is on the verge of death; but luckily, he is saved by an abnormal hIE carrying a weaponized coffin. Her name is Lacia, one of five highly advanced hIEs that recently escaped the clutches of the mysterious MemeFrame Corporation. Faced with a hacked car threatening to run them over, Lacia offers Arato a deal: in exchange for saving his life, he must register as her new owner, thus taking full responsibility for her actions. With little choice, he decides to trust this artificial girl and allows her to live in his home. Though Lacia begins to adapt to her new, peaceful lifestyle, she warns the entranced Arato of one thing—she does not have a soul.  "
      ]
     },
     "execution_count": 26,
     "metadata": {},
     "output_type": "execute_result"
    }
   ],
   "source": [
    "find_similar_animes('Black Clover', n=5, neg=False)"
   ]
  },
  {
   "cell_type": "code",
   "execution_count": 27,
   "id": "aabe7a73",
   "metadata": {
    "execution": {
     "iopub.execute_input": "2023-05-17T06:56:20.218285Z",
     "iopub.status.busy": "2023-05-17T06:56:20.217820Z",
     "iopub.status.idle": "2023-05-17T06:56:20.243587Z",
     "shell.execute_reply": "2023-05-17T06:56:20.242739Z"
    },
    "papermill": {
     "duration": 0.248651,
     "end_time": "2023-05-17T06:56:20.245629",
     "exception": false,
     "start_time": "2023-05-17T06:56:19.996978",
     "status": "completed"
    },
    "tags": []
   },
   "outputs": [
    {
     "name": "stdout",
     "output_type": "stream",
     "text": [
      "animes closest to Death Note\n"
     ]
    },
    {
     "data": {
      "text/html": [
       "<div>\n",
       "<style scoped>\n",
       "    .dataframe tbody tr th:only-of-type {\n",
       "        vertical-align: middle;\n",
       "    }\n",
       "\n",
       "    .dataframe tbody tr th {\n",
       "        vertical-align: top;\n",
       "    }\n",
       "\n",
       "    .dataframe thead th {\n",
       "        text-align: right;\n",
       "    }\n",
       "</style>\n",
       "<table border=\"1\" class=\"dataframe\">\n",
       "  <thead>\n",
       "    <tr style=\"text-align: right;\">\n",
       "      <th></th>\n",
       "      <th>name</th>\n",
       "      <th>similarity</th>\n",
       "      <th>genre</th>\n",
       "      <th>sypnopsis</th>\n",
       "    </tr>\n",
       "  </thead>\n",
       "  <tbody>\n",
       "    <tr>\n",
       "      <th>4</th>\n",
       "      <td>Fullmetal Alchemist:Brotherhood</td>\n",
       "      <td>0.989738</td>\n",
       "      <td>Action, Military, Adventure, Comedy, Drama, Magic, Fantasy, Shounen</td>\n",
       "      <td>\"In order for something to be obtained, something of equal value must be lost.\" Alchemy is bound by this Law of Equivalent Exchange—something the young brothers Edward and Alphonse Elric only realize after attempting human transmutation: the one forbidden act of alchemy. They pay a terrible price for their transgression—Edward loses his left leg, Alphonse his physical body. It is only by the desperate sacrifice of Edward's right arm that he is able to affix Alphonse's soul to a suit of armor. Devastated and alone, it is the hope that they would both eventually return to their original bodies that gives Edward the inspiration to obtain metal limbs called \"automail\" and become a state alchemist, the Fullmetal Alchemist. Three years of searching later, the brothers seek the Philosopher's Stone, a mythical relic that allows an alchemist to overcome the Law of Equivalent Exchange. Even with military allies Colonel Roy Mustang, Lieutenant Riza Hawkeye, and Lieutenant Colonel Maes Hughes on their side, the brothers find themselves caught up in a nationwide conspiracy that leads them not only to the true nature of the elusive Philosopher's Stone, but their country's murky history as well. In between finding a serial killer and racing against time, Edward and Alphonse must ask themselves if what they are doing will make them human again... or take away their humanity.</td>\n",
       "    </tr>\n",
       "    <tr>\n",
       "      <th>3</th>\n",
       "      <td>Code Geass:Lelouch of the Rebellion R2</td>\n",
       "      <td>0.985156</td>\n",
       "      <td>Action, Military, Sci-Fi, Super Power, Drama, Mecha</td>\n",
       "      <td>One year has passed since the Black Rebellion, a failed uprising against the Holy Britannian Empire led by the masked vigilante Zero, who is now missing. At a loss without their revolutionary leader, Area 11's resistance group—the Black Knights—find themselves too powerless to combat the brutality inflicted upon the Elevens by Britannia, which has increased significantly in order to crush any hope of a future revolt. Lelouch Lamperouge, having lost all memory of his double life, is living peacefully alongside his friends as a high school student at Ashford Academy. His former partner C.C., unable to accept this turn of events, takes it upon herself to remind him of his past purpose, hoping that the mastermind Zero will rise once again to finish what he started, in this thrilling conclusion to the series.</td>\n",
       "    </tr>\n",
       "    <tr>\n",
       "      <th>2</th>\n",
       "      <td>Attack on Titan</td>\n",
       "      <td>0.980720</td>\n",
       "      <td>Action, Military, Mystery, Super Power, Drama, Fantasy, Shounen</td>\n",
       "      <td>Centuries ago, mankind was slaughtered to near extinction by monstrous humanoid creatures called titans, forcing humans to hide in fear behind enormous concentric walls. What makes these giants truly terrifying is that their taste for human flesh is not born out of hunger but what appears to be out of pleasure. To ensure their survival, the remnants of humanity began living within defensive barriers, resulting in one hundred years without a single titan encounter. However, that fragile calm is soon shattered when a colossal titan manages to breach the supposedly impregnable outer wall, reigniting the fight for survival against the man-eating abominations. After witnessing a horrific personal loss at the hands of the invading creatures, Eren Yeager dedicates his life to their eradication by enlisting into the Survey Corps, an elite military unit that combats the merciless humanoids outside the protection of the walls. Based on Hajime Isayama's award-winning manga, Shingeki no Kyojin follows Eren, along with his adopted sister Mikasa Ackerman and his childhood friend Armin Arlert, as they join the brutal war against the titans and race to discover a way of defeating them before the last walls are breached.</td>\n",
       "    </tr>\n",
       "    <tr>\n",
       "      <th>1</th>\n",
       "      <td>Code Geass:Lelouch of the Rebellion</td>\n",
       "      <td>0.977143</td>\n",
       "      <td>Action, Military, Sci-Fi, Super Power, Drama, Mecha, School</td>\n",
       "      <td>In the year 2010, the Holy Empire of Britannia is establishing itself as a dominant military nation, starting with the conquest of Japan. Renamed to Area 11 after its swift defeat, Japan has seen significant resistance against these tyrants in an attempt to regain independence. Lelouch Lamperouge, a Britannian student, unfortunately finds himself caught in a crossfire between the Britannian and the Area 11 rebel armed forces. He is able to escape, however, thanks to the timely appearance of a mysterious girl named C.C., who bestows upon him Geass, the \"Power of Kings.\" Realizing the vast potential of his newfound \"power of absolute obedience,\" Lelouch embarks upon a perilous journey as the masked vigilante known as Zero, leading a merciless onslaught against Britannia in order to get revenge once and for all.</td>\n",
       "    </tr>\n",
       "    <tr>\n",
       "      <th>0</th>\n",
       "      <td>Spirited Away</td>\n",
       "      <td>0.972366</td>\n",
       "      <td>Adventure, Supernatural, Drama</td>\n",
       "      <td>Stubborn, spoiled, and naïve, 10-year-old Chihiro Ogino is less than pleased when she and her parents discover an abandoned amusement park on the way to their new house. Cautiously venturing inside, she realizes that there is more to this place than meets the eye, as strange things begin to happen once dusk falls. Ghostly apparitions and food that turns her parents into pigs are just the start—Chihiro has unwittingly crossed over into the spirit world. Now trapped, she must summon the courage to live and work amongst spirits, with the help of the enigmatic Haku and the cast of unique characters she meets along the way. Vivid and intriguing, Sen to Chihiro no Kamikakushi tells the story of Chihiro's journey through an unfamiliar world as she strives to save her parents and return home.</td>\n",
       "    </tr>\n",
       "  </tbody>\n",
       "</table>\n",
       "</div>"
      ],
      "text/plain": [
       "                                     name  similarity  \\\n",
       "4         Fullmetal Alchemist:Brotherhood    0.989738   \n",
       "3  Code Geass:Lelouch of the Rebellion R2    0.985156   \n",
       "2                         Attack on Titan    0.980720   \n",
       "1     Code Geass:Lelouch of the Rebellion    0.977143   \n",
       "0                           Spirited Away    0.972366   \n",
       "\n",
       "                                                                 genre  \\\n",
       "4  Action, Military, Adventure, Comedy, Drama, Magic, Fantasy, Shounen   \n",
       "3                  Action, Military, Sci-Fi, Super Power, Drama, Mecha   \n",
       "2      Action, Military, Mystery, Super Power, Drama, Fantasy, Shounen   \n",
       "1          Action, Military, Sci-Fi, Super Power, Drama, Mecha, School   \n",
       "0                                       Adventure, Supernatural, Drama   \n",
       "\n",
       "                                                                                                                                                                                                                                                                                                                                                                                                                                                                                                                                                                                                                                                                                                                                                                                                                                                                                                                                                                                                                                                                                                                                                                                                                                                                                                                                                                                                                               sypnopsis  \n",
       "4  \"In order for something to be obtained, something of equal value must be lost.\" Alchemy is bound by this Law of Equivalent Exchange—something the young brothers Edward and Alphonse Elric only realize after attempting human transmutation: the one forbidden act of alchemy. They pay a terrible price for their transgression—Edward loses his left leg, Alphonse his physical body. It is only by the desperate sacrifice of Edward's right arm that he is able to affix Alphonse's soul to a suit of armor. Devastated and alone, it is the hope that they would both eventually return to their original bodies that gives Edward the inspiration to obtain metal limbs called \"automail\" and become a state alchemist, the Fullmetal Alchemist. Three years of searching later, the brothers seek the Philosopher's Stone, a mythical relic that allows an alchemist to overcome the Law of Equivalent Exchange. Even with military allies Colonel Roy Mustang, Lieutenant Riza Hawkeye, and Lieutenant Colonel Maes Hughes on their side, the brothers find themselves caught up in a nationwide conspiracy that leads them not only to the true nature of the elusive Philosopher's Stone, but their country's murky history as well. In between finding a serial killer and racing against time, Edward and Alphonse must ask themselves if what they are doing will make them human again... or take away their humanity.  \n",
       "3                                                                                                                                                                                                                                                                                                                                                                                                                                                                                                                                                                                        One year has passed since the Black Rebellion, a failed uprising against the Holy Britannian Empire led by the masked vigilante Zero, who is now missing. At a loss without their revolutionary leader, Area 11's resistance group—the Black Knights—find themselves too powerless to combat the brutality inflicted upon the Elevens by Britannia, which has increased significantly in order to crush any hope of a future revolt. Lelouch Lamperouge, having lost all memory of his double life, is living peacefully alongside his friends as a high school student at Ashford Academy. His former partner C.C., unable to accept this turn of events, takes it upon herself to remind him of his past purpose, hoping that the mastermind Zero will rise once again to finish what he started, in this thrilling conclusion to the series.  \n",
       "2                                                                                                                                                                Centuries ago, mankind was slaughtered to near extinction by monstrous humanoid creatures called titans, forcing humans to hide in fear behind enormous concentric walls. What makes these giants truly terrifying is that their taste for human flesh is not born out of hunger but what appears to be out of pleasure. To ensure their survival, the remnants of humanity began living within defensive barriers, resulting in one hundred years without a single titan encounter. However, that fragile calm is soon shattered when a colossal titan manages to breach the supposedly impregnable outer wall, reigniting the fight for survival against the man-eating abominations. After witnessing a horrific personal loss at the hands of the invading creatures, Eren Yeager dedicates his life to their eradication by enlisting into the Survey Corps, an elite military unit that combats the merciless humanoids outside the protection of the walls. Based on Hajime Isayama's award-winning manga, Shingeki no Kyojin follows Eren, along with his adopted sister Mikasa Ackerman and his childhood friend Armin Arlert, as they join the brutal war against the titans and race to discover a way of defeating them before the last walls are breached.  \n",
       "1                                                                                                                                                                                                                                                                                                                                                                                                                                                                                                                                                                                   In the year 2010, the Holy Empire of Britannia is establishing itself as a dominant military nation, starting with the conquest of Japan. Renamed to Area 11 after its swift defeat, Japan has seen significant resistance against these tyrants in an attempt to regain independence. Lelouch Lamperouge, a Britannian student, unfortunately finds himself caught in a crossfire between the Britannian and the Area 11 rebel armed forces. He is able to escape, however, thanks to the timely appearance of a mysterious girl named C.C., who bestows upon him Geass, the \"Power of Kings.\" Realizing the vast potential of his newfound \"power of absolute obedience,\" Lelouch embarks upon a perilous journey as the masked vigilante known as Zero, leading a merciless onslaught against Britannia in order to get revenge once and for all.  \n",
       "0                                                                                                                                                                                                                                                                                                                                                                                                                                                                                                                                                                                                            Stubborn, spoiled, and naïve, 10-year-old Chihiro Ogino is less than pleased when she and her parents discover an abandoned amusement park on the way to their new house. Cautiously venturing inside, she realizes that there is more to this place than meets the eye, as strange things begin to happen once dusk falls. Ghostly apparitions and food that turns her parents into pigs are just the start—Chihiro has unwittingly crossed over into the spirit world. Now trapped, she must summon the courage to live and work amongst spirits, with the help of the enigmatic Haku and the cast of unique characters she meets along the way. Vivid and intriguing, Sen to Chihiro no Kamikakushi tells the story of Chihiro's journey through an unfamiliar world as she strives to save her parents and return home.  "
      ]
     },
     "execution_count": 27,
     "metadata": {},
     "output_type": "execute_result"
    }
   ],
   "source": [
    "find_similar_animes('Death Note', n=5, neg=False)"
   ]
  },
  {
   "cell_type": "markdown",
   "id": "0f7cf903",
   "metadata": {
    "papermill": {
     "duration": 0.292551,
     "end_time": "2023-05-17T06:56:20.783626",
     "exception": false,
     "start_time": "2023-05-17T06:56:20.491075",
     "status": "completed"
    },
    "tags": []
   },
   "source": [
    "## **Task 2**: Finding Similar Users (User Based Recommendation)"
   ]
  },
  {
   "cell_type": "code",
   "execution_count": 28,
   "id": "6d8fa90d",
   "metadata": {
    "execution": {
     "iopub.execute_input": "2023-05-17T06:56:21.221446Z",
     "iopub.status.busy": "2023-05-17T06:56:21.221027Z",
     "iopub.status.idle": "2023-05-17T06:56:23.328913Z",
     "shell.execute_reply": "2023-05-17T06:56:23.328029Z"
    },
    "papermill": {
     "duration": 2.329362,
     "end_time": "2023-05-17T06:56:23.330668",
     "exception": false,
     "start_time": "2023-05-17T06:56:21.001306",
     "status": "completed"
    },
    "tags": []
   },
   "outputs": [
    {
     "name": "stdout",
     "output_type": "stream",
     "text": [
      "> picking up random user\n",
      "> user_id: 323306\n"
     ]
    }
   ],
   "source": [
    "print('> picking up random user')\n",
    "\n",
    "ratings_per_user = rating_df.groupby('user_id').size()\n",
    "random_user = ratings_per_user[ratings_per_user < 500].sample(1, random_state=None).index[0]\n",
    "print('> user_id:', random_user)"
   ]
  },
  {
   "cell_type": "code",
   "execution_count": 29,
   "id": "4792e0e5",
   "metadata": {
    "execution": {
     "iopub.execute_input": "2023-05-17T06:56:23.773021Z",
     "iopub.status.busy": "2023-05-17T06:56:23.772266Z",
     "iopub.status.idle": "2023-05-17T06:56:23.780620Z",
     "shell.execute_reply": "2023-05-17T06:56:23.779573Z"
    },
    "papermill": {
     "duration": 0.232597,
     "end_time": "2023-05-17T06:56:23.782697",
     "exception": false,
     "start_time": "2023-05-17T06:56:23.550100",
     "status": "completed"
    },
    "tags": []
   },
   "outputs": [],
   "source": [
    "#pd.reset_option('all')\n",
    "pd.set_option(\"max_colwidth\", None)\n",
    "\n",
    "def find_similar_users(item_input, n=10,return_dist=False, neg=False):\n",
    "    try:\n",
    "        index = item_input\n",
    "        encoded_index = user2user_encoded.get(index)\n",
    "        weights = user_weights\n",
    "    \n",
    "        dists = np.dot(weights, weights[encoded_index])\n",
    "        sorted_dists = np.argsort(dists)\n",
    "        \n",
    "        n = n + 1\n",
    "        \n",
    "        if neg:\n",
    "            closest = sorted_dists[:n]\n",
    "        else:\n",
    "            closest = sorted_dists[-n:]\n",
    "\n",
    "        print('> users similar to #{}'.format(item_input))\n",
    "\n",
    "        if return_dist:\n",
    "            return dists, closest\n",
    "        \n",
    "        rindex = df\n",
    "        SimilarityArr = []\n",
    "        \n",
    "        for close in closest:\n",
    "            similarity = dists[close]\n",
    "\n",
    "            if isinstance(item_input, int):\n",
    "                decoded_id = user_encoded2user.get(close)\n",
    "                SimilarityArr.append({\"similar_users\": decoded_id, \n",
    "                                      \"similarity\": similarity})\n",
    "\n",
    "        Frame = pd.DataFrame(SimilarityArr).sort_values(by=\"similarity\", \n",
    "                                                        ascending=False)\n",
    "        \n",
    "        return Frame\n",
    "    \n",
    "    except:\n",
    "        print('{}!, Not Found in User list'.format(name))"
   ]
  },
  {
   "cell_type": "code",
   "execution_count": 30,
   "id": "eb9cb225",
   "metadata": {
    "execution": {
     "iopub.execute_input": "2023-05-17T06:56:24.238236Z",
     "iopub.status.busy": "2023-05-17T06:56:24.237800Z",
     "iopub.status.idle": "2023-05-17T06:56:24.262604Z",
     "shell.execute_reply": "2023-05-17T06:56:24.261827Z"
    },
    "papermill": {
     "duration": 0.249281,
     "end_time": "2023-05-17T06:56:24.264544",
     "exception": false,
     "start_time": "2023-05-17T06:56:24.015263",
     "status": "completed"
    },
    "tags": []
   },
   "outputs": [
    {
     "name": "stdout",
     "output_type": "stream",
     "text": [
      "> users similar to #323306\n"
     ]
    },
    {
     "data": {
      "text/html": [
       "<div>\n",
       "<style scoped>\n",
       "    .dataframe tbody tr th:only-of-type {\n",
       "        vertical-align: middle;\n",
       "    }\n",
       "\n",
       "    .dataframe tbody tr th {\n",
       "        vertical-align: top;\n",
       "    }\n",
       "\n",
       "    .dataframe thead th {\n",
       "        text-align: right;\n",
       "    }\n",
       "</style>\n",
       "<table border=\"1\" class=\"dataframe\">\n",
       "  <thead>\n",
       "    <tr style=\"text-align: right;\">\n",
       "      <th></th>\n",
       "      <th>similar_users</th>\n",
       "      <th>similarity</th>\n",
       "    </tr>\n",
       "  </thead>\n",
       "  <tbody>\n",
       "    <tr>\n",
       "      <th>4</th>\n",
       "      <td>92095</td>\n",
       "      <td>0.477141</td>\n",
       "    </tr>\n",
       "    <tr>\n",
       "      <th>3</th>\n",
       "      <td>37621</td>\n",
       "      <td>0.447572</td>\n",
       "    </tr>\n",
       "    <tr>\n",
       "      <th>2</th>\n",
       "      <td>162584</td>\n",
       "      <td>0.437416</td>\n",
       "    </tr>\n",
       "    <tr>\n",
       "      <th>1</th>\n",
       "      <td>350609</td>\n",
       "      <td>0.431532</td>\n",
       "    </tr>\n",
       "    <tr>\n",
       "      <th>0</th>\n",
       "      <td>26525</td>\n",
       "      <td>0.423429</td>\n",
       "    </tr>\n",
       "  </tbody>\n",
       "</table>\n",
       "</div>"
      ],
      "text/plain": [
       "   similar_users  similarity\n",
       "4          92095    0.477141\n",
       "3          37621    0.447572\n",
       "2         162584    0.437416\n",
       "1         350609    0.431532\n",
       "0          26525    0.423429"
      ]
     },
     "execution_count": 30,
     "metadata": {},
     "output_type": "execute_result"
    }
   ],
   "source": [
    "similar_users = find_similar_users(int(random_user), \n",
    "                                   n=5, \n",
    "                                   neg=False)\n",
    "\n",
    "similar_users = similar_users[similar_users.similarity > 0.4]\n",
    "similar_users = similar_users[similar_users.similar_users != random_user]\n",
    "similar_users.head(5)"
   ]
  },
  {
   "cell_type": "markdown",
   "id": "9a6bcf4e",
   "metadata": {
    "papermill": {
     "duration": 0.221944,
     "end_time": "2023-05-17T06:56:24.729505",
     "exception": false,
     "start_time": "2023-05-17T06:56:24.507561",
     "status": "completed"
    },
    "tags": []
   },
   "source": [
    "## **User preferences**"
   ]
  },
  {
   "cell_type": "code",
   "execution_count": 31,
   "id": "3972a609",
   "metadata": {
    "execution": {
     "iopub.execute_input": "2023-05-17T06:56:25.232190Z",
     "iopub.status.busy": "2023-05-17T06:56:25.231709Z",
     "iopub.status.idle": "2023-05-17T06:56:25.274075Z",
     "shell.execute_reply": "2023-05-17T06:56:25.273230Z"
    },
    "papermill": {
     "duration": 0.266,
     "end_time": "2023-05-17T06:56:25.276278",
     "exception": false,
     "start_time": "2023-05-17T06:56:25.010278",
     "status": "completed"
    },
    "tags": []
   },
   "outputs": [],
   "source": [
    "from wordcloud import WordCloud\n",
    "from collections import defaultdict\n",
    "import matplotlib.pyplot as plt\n",
    "\n",
    "def showWordCloud(all_genres):\n",
    "    genres_cloud = WordCloud(width=700, height=400, \n",
    "                             background_color='white', \n",
    "                             colormap='gnuplot').generate_from_frequencies(all_genres)\n",
    "    \n",
    "    plt.figure(figsize=(10,8)) \n",
    "    plt.imshow(genres_cloud, interpolation='bilinear')\n",
    "    plt.axis('off')\n",
    "    plt.show()\n",
    "\n",
    "def getFavGenre(frame, plot=False):\n",
    "        frame.dropna(inplace=False)\n",
    "        all_genres = defaultdict(int)\n",
    "        \n",
    "        genres_list = []\n",
    "        for genres in frame['Genres']:\n",
    "            if isinstance(genres, str):\n",
    "                for genre in genres.split(','):\n",
    "                    genres_list.append(genre)\n",
    "                    all_genres[genre.strip()] += 1    \n",
    "        if plot:\n",
    "            showWordCloud(all_genres)\n",
    "        \n",
    "        return genres_list\n",
    "\n",
    "    \n",
    "def get_user_preferences(user_id, plot=False, verbose=0):\n",
    "    animes_watched_by_user = rating_df[rating_df.user_id==user_id]\n",
    "    user_rating_percentile = np.percentile(animes_watched_by_user.rating, 75)\n",
    "    animes_watched_by_user = animes_watched_by_user[animes_watched_by_user.rating >= user_rating_percentile]\n",
    "    top_animes_user = (\n",
    "        animes_watched_by_user.sort_values(by=\"rating\", ascending=False)#.head(10)\n",
    "        .anime_id.values\n",
    "    )\n",
    "    \n",
    "    anime_df_rows = df[df[\"anime_id\"].isin(top_animes_user)]\n",
    "    anime_df_rows = anime_df_rows[[\"eng_version\", \"Genres\"]]\n",
    "    \n",
    "    if verbose != 0:\n",
    "        print(\"> User #{} has rated {} movies (avg. rating = {:.1f})\".format(\n",
    "          user_id, len(animes_watched_by_user),\n",
    "          animes_watched_by_user['rating'].mean(),\n",
    "        ))\n",
    "    \n",
    "        print('> preferred genres')\n",
    "    \n",
    "    if plot:\n",
    "        getFavGenre(anime_df_rows, plot)\n",
    "        \n",
    "    return anime_df_rows#.eng_version.values"
   ]
  },
  {
   "cell_type": "code",
   "execution_count": 32,
   "id": "5be5a338",
   "metadata": {
    "execution": {
     "iopub.execute_input": "2023-05-17T06:56:25.721787Z",
     "iopub.status.busy": "2023-05-17T06:56:25.720932Z",
     "iopub.status.idle": "2023-05-17T06:56:26.069761Z",
     "shell.execute_reply": "2023-05-17T06:56:26.068952Z"
    },
    "papermill": {
     "duration": 0.575944,
     "end_time": "2023-05-17T06:56:26.073299",
     "exception": false,
     "start_time": "2023-05-17T06:56:25.497355",
     "status": "completed"
    },
    "tags": []
   },
   "outputs": [
    {
     "name": "stdout",
     "output_type": "stream",
     "text": [
      "> User #323306 has rated 155 movies (avg. rating = 1.0)\n",
      "> preferred genres\n"
     ]
    },
    {
     "data": {
      "image/png": "[encoded data removed]",
      "text/plain": [
       "<Figure size 1000x800 with 1 Axes>"
      ]
     },
     "metadata": {},
     "output_type": "display_data"
    },
    {
     "name": "stdout",
     "output_type": "stream",
     "text": [
      "> animes highly rated by this user\n"
     ]
    },
    {
     "data": {
      "text/html": [
       "<div>\n",
       "<style scoped>\n",
       "    .dataframe tbody tr th:only-of-type {\n",
       "        vertical-align: middle;\n",
       "    }\n",
       "\n",
       "    .dataframe tbody tr th {\n",
       "        vertical-align: top;\n",
       "    }\n",
       "\n",
       "    .dataframe thead th {\n",
       "        text-align: right;\n",
       "    }\n",
       "</style>\n",
       "<table border=\"1\" class=\"dataframe\">\n",
       "  <thead>\n",
       "    <tr style=\"text-align: right;\">\n",
       "      <th></th>\n",
       "      <th>eng_version</th>\n",
       "      <th>Genres</th>\n",
       "    </tr>\n",
       "  </thead>\n",
       "  <tbody>\n",
       "    <tr>\n",
       "      <th>3971</th>\n",
       "      <td>Fullmetal Alchemist:Brotherhood</td>\n",
       "      <td>Action, Military, Adventure, Comedy, Drama, Magic, Fantasy, Shounen</td>\n",
       "    </tr>\n",
       "    <tr>\n",
       "      <th>15926</th>\n",
       "      <td>Attack on Titan Final Season</td>\n",
       "      <td>Action, Military, Mystery, Super Power, Drama, Fantasy, Shounen</td>\n",
       "    </tr>\n",
       "    <tr>\n",
       "      <th>5683</th>\n",
       "      <td>Steins;Gate</td>\n",
       "      <td>Thriller, Sci-Fi</td>\n",
       "    </tr>\n",
       "    <tr>\n",
       "      <th>14963</th>\n",
       "      <td>Attack on Titan Season 3 Part 2</td>\n",
       "      <td>Action, Drama, Fantasy, Military, Mystery, Shounen, Super Power</td>\n",
       "    </tr>\n",
       "    <tr>\n",
       "      <th>6474</th>\n",
       "      <td>Hunter x Hunter</td>\n",
       "      <td>Action, Adventure, Fantasy, Shounen, Super Power</td>\n",
       "    </tr>\n",
       "  </tbody>\n",
       "</table>\n",
       "</div>"
      ],
      "text/plain": [
       "                           eng_version  \\\n",
       "3971   Fullmetal Alchemist:Brotherhood   \n",
       "15926     Attack on Titan Final Season   \n",
       "5683                       Steins;Gate   \n",
       "14963  Attack on Titan Season 3 Part 2   \n",
       "6474                   Hunter x Hunter   \n",
       "\n",
       "                                                                    Genres  \n",
       "3971   Action, Military, Adventure, Comedy, Drama, Magic, Fantasy, Shounen  \n",
       "15926      Action, Military, Mystery, Super Power, Drama, Fantasy, Shounen  \n",
       "5683                                                      Thriller, Sci-Fi  \n",
       "14963      Action, Drama, Fantasy, Military, Mystery, Shounen, Super Power  \n",
       "6474                      Action, Adventure, Fantasy, Shounen, Super Power  "
      ]
     },
     "execution_count": 32,
     "metadata": {},
     "output_type": "execute_result"
    }
   ],
   "source": [
    "user_pref = get_user_preferences(random_user, plot=True, verbose=1)\n",
    "print('> animes highly rated by this user')\n",
    "\n",
    "pd.DataFrame(user_pref).head(5)"
   ]
  },
  {
   "cell_type": "markdown",
   "id": "388d3f4d",
   "metadata": {
    "papermill": {
     "duration": 0.224185,
     "end_time": "2023-05-17T06:56:26.526001",
     "exception": false,
     "start_time": "2023-05-17T06:56:26.301816",
     "status": "completed"
    },
    "tags": []
   },
   "source": [
    "## **Task 3**: **Recommending** animes for a user"
   ]
  },
  {
   "cell_type": "code",
   "execution_count": 33,
   "id": "76fc031c",
   "metadata": {
    "execution": {
     "iopub.execute_input": "2023-05-17T06:56:27.039545Z",
     "iopub.status.busy": "2023-05-17T06:56:27.039147Z",
     "iopub.status.idle": "2023-05-17T06:56:27.047719Z",
     "shell.execute_reply": "2023-05-17T06:56:27.046653Z"
    },
    "papermill": {
     "duration": 0.301006,
     "end_time": "2023-05-17T06:56:27.050307",
     "exception": false,
     "start_time": "2023-05-17T06:56:26.749301",
     "status": "completed"
    },
    "tags": []
   },
   "outputs": [],
   "source": [
    "def get_recommended_animes(similar_users, n=10):\n",
    "    recommended_animes = []\n",
    "    anime_list = []\n",
    "    \n",
    "    for user_id in similar_users.similar_users.values:\n",
    "        pref_list = get_user_preferences(int(user_id), verbose=0)\n",
    "        pref_list = pref_list[~ pref_list.eng_version.isin(user_pref.eng_version.values)]\n",
    "        anime_list.append(pref_list.eng_version.values)\n",
    "        \n",
    "    anime_list = pd.DataFrame(anime_list)\n",
    "    sorted_list = pd.DataFrame(pd.Series(anime_list.values.ravel()).value_counts()).head(n)\n",
    "    \n",
    "    for i, anime_name in enumerate(sorted_list.index):        \n",
    "        n_user_pref = sorted_list[sorted_list.index == anime_name].values[0][0]\n",
    "        if isinstance(anime_name, str):\n",
    "            try:\n",
    "                frame = getAnimeFrame(anime_name)\n",
    "                anime_id = frame.anime_id.values[0]\n",
    "                genre = frame.Genres.values[0]\n",
    "                sypnopsis = getSypnopsis(int(anime_id))\n",
    "                recommended_animes.append({#\"anime_id\": anime_id ,\n",
    "                                            \"n\": n_user_pref,\n",
    "                                            \"anime_name\": anime_name, \n",
    "                                            \"Genres\": genre, \n",
    "                                            \"sypnopsis\": sypnopsis})\n",
    "            except:\n",
    "                pass\n",
    "    \n",
    "    return pd.DataFrame(recommended_animes)"
   ]
  },
  {
   "cell_type": "code",
   "execution_count": 34,
   "id": "732f4789",
   "metadata": {
    "execution": {
     "iopub.execute_input": "2023-05-17T06:56:27.536277Z",
     "iopub.status.busy": "2023-05-17T06:56:27.535796Z",
     "iopub.status.idle": "2023-05-17T06:56:28.184685Z",
     "shell.execute_reply": "2023-05-17T06:56:28.183942Z"
    },
    "papermill": {
     "duration": 0.892564,
     "end_time": "2023-05-17T06:56:28.186803",
     "exception": false,
     "start_time": "2023-05-17T06:56:27.294239",
     "status": "completed"
    },
    "tags": []
   },
   "outputs": [
    {
     "data": {
      "image/png": "[encoded data removed]",
      "text/plain": [
       "<Figure size 1000x800 with 1 Axes>"
      ]
     },
     "metadata": {},
     "output_type": "display_data"
    },
    {
     "name": "stdout",
     "output_type": "stream",
     "text": [
      "\n",
      "> Top recommendations for user: 323306\n"
     ]
    },
    {
     "data": {
      "text/html": [
       "<div>\n",
       "<style scoped>\n",
       "    .dataframe tbody tr th:only-of-type {\n",
       "        vertical-align: middle;\n",
       "    }\n",
       "\n",
       "    .dataframe tbody tr th {\n",
       "        vertical-align: top;\n",
       "    }\n",
       "\n",
       "    .dataframe thead th {\n",
       "        text-align: right;\n",
       "    }\n",
       "</style>\n",
       "<table border=\"1\" class=\"dataframe\">\n",
       "  <thead>\n",
       "    <tr style=\"text-align: right;\">\n",
       "      <th></th>\n",
       "      <th>n</th>\n",
       "      <th>anime_name</th>\n",
       "      <th>Genres</th>\n",
       "      <th>sypnopsis</th>\n",
       "    </tr>\n",
       "  </thead>\n",
       "  <tbody>\n",
       "    <tr>\n",
       "      <th>0</th>\n",
       "      <td>4</td>\n",
       "      <td>GATE</td>\n",
       "      <td>Action, Military, Adventure, Fantasy</td>\n",
       "      <td>Several months have passed since the infamous Ginza Incident, with tensions between the Empire and JSDF escalating in the vast and mysterious \"Special Region\" over peace negotiations. The greed and curiosity of the global powers have also begun to grow, as reports about the technological limitations of the magical realm's archaic civilizations come to light. Meanwhile, Lieutenant Youji Itami and his merry band of female admirers struggle to navigate the complex political intrigue that plagues the Empire's court. Despite her best efforts, Princess Piña Co Lada faces difficulties attempting to convince her father that the JSDF has no intention of conquering their kingdom. Pressured from both sides of the Gate, Itami must consider even more drastic measures to fulfill his mission.</td>\n",
       "    </tr>\n",
       "    <tr>\n",
       "      <th>1</th>\n",
       "      <td>4</td>\n",
       "      <td>Great Teacher Onizuka</td>\n",
       "      <td>Slice of Life, Comedy, Drama, School, Shounen</td>\n",
       "      <td>Twenty-two-year-old Eikichi Onizuka—ex-biker gang leader, conqueror of Shonan, and virgin—has a dream: to become the greatest high school teacher in all of Japan. This isn't because of a passion for teaching, but because he wants a loving teenage wife when he's old and gray. Still, for a perverted, greedy, and lazy delinquent, there is more to Onizuka than meets the eye. So when he lands a job as the homeroom teacher of the Class 3-4 at the prestigious Holy Forest Academy—despite suplexing the Vice Principal—all of his talents are put to the test, as this class is particularly infamous. Due to their utter contempt for all teachers, the class' students use psychological warfare to mentally break any new homeroom teacher they get, forcing them to quit and leave school. However, Onizuka isn't your average teacher, and he's ready for any challenge in his way. Bullying, suicide, and sexual harassment are just a few of the issues his students face daily. By tackling the roots of their problems, Onizuka supports them with his unpredictable and unconventional methods—even if it means jumping off a building to save a suicidal child. Thanks to his eccentric charm and fun-loving nature, Class 3-4 slowly learns just how enjoyable school can be when you're the pupils of the Great Teacher Onizuka.</td>\n",
       "    </tr>\n",
       "    <tr>\n",
       "      <th>2</th>\n",
       "      <td>4</td>\n",
       "      <td>Fairy Tail</td>\n",
       "      <td>Action, Adventure, Comedy, Magic, Fantasy, Shounen</td>\n",
       "      <td>In the mystical land of Fiore, magic exists as an essential part of everyday life. Countless magic guilds lie at the core of all magical activity, and serve as venues for like-minded mages to band together and take on job requests. Among them, Fairy Tail stands out from the rest as a place of strength, spirit, and family. Lucy Heartfilia is a young mage searching for celestial gate keys, and her dream is to become a full-fledged wizard by joining this famous guild. In her search, she runs into Natsu Dragneel and his partner Happy, who are on a quest to find Natsu's foster father, the dragon Igneel. Upon being tricked by a man, Lucy falls under an abduction attempt, only to be saved by Natsu. To her shock, he reveals that he is a member of Fairy Tail and invites her to join them. There, Lucy meets the guild's strange members, such as the ice wizard Gray Fullbuster and magic swordswoman Erza Scarlet. Together as a family, they battle the forces of evil, help those in need, and gain new friends, all the while enjoying the never-ending adventure that is Fairy Tail.</td>\n",
       "    </tr>\n",
       "    <tr>\n",
       "      <th>3</th>\n",
       "      <td>4</td>\n",
       "      <td>Kuroko's Basketball Special</td>\n",
       "      <td>Sports, Comedy, School, Shounen</td>\n",
       "      <td>Episode 22.5 bundled with BD/DVD volume 8. The episode covers Kuroko's past, when he was part of the \"Generation of Miracles.\"</td>\n",
       "    </tr>\n",
       "    <tr>\n",
       "      <th>4</th>\n",
       "      <td>4</td>\n",
       "      <td>Bleach</td>\n",
       "      <td>Action, Adventure, Comedy, Super Power, Supernatural, Shounen</td>\n",
       "      <td>Ichigo Kurosaki is an ordinary high schooler—until his family is attacked by a Hollow, a corrupt spirit that seeks to devour human souls. It is then that he meets a Soul Reaper named Rukia Kuchiki, who gets injured while protecting Ichigo's family from the assailant. To save his family, Ichigo accepts Rukia's offer of taking her powers and becomes a Soul Reaper as a result. However, as Rukia is unable to regain her powers, Ichigo is given the daunting task of hunting down the Hollows that plague their town. However, he is not alone in his fight, as he is later joined by his friends—classmates Orihime Inoue, Yasutora Sado, and Uryuu Ishida—who each have their own unique abilities. As Ichigo and his comrades get used to their new duties and support each other on and off the battlefield, the young Soul Reaper soon learns that the Hollows are not the only real threat to the human world.</td>\n",
       "    </tr>\n",
       "    <tr>\n",
       "      <th>5</th>\n",
       "      <td>4</td>\n",
       "      <td>One Punch Man 2nd Season</td>\n",
       "      <td>Action, Sci-Fi, Comedy, Parody, Super Power, Supernatural</td>\n",
       "      <td>In the wake of defeating Boros and his mighty army, Saitama has returned to his unremarkable everyday life in Z-City. However, unbeknownst to him, the number of monsters appearing is still continuously on the rise, putting a strain on the Hero Association’s resources. Their top executives decide on the bold move of recruiting hoodlums in order to help in their battle. But during the first meeting with these potential newcomers, a mysterious man calling himself Garou makes his appearance. Claiming to be a monster, he starts mercilessly attacking the crowd. The mysterious Garou continues his rampage against the Hero Association, crushing every hero he encounters. He turns out to be the legendary martial artist Silverfang’s best former disciple and seems driven by unknown motives. Regardless, this beast of a man seems unstoppable. Intrigued by this puzzling new foe and with an insatiable thirst for money, Saitama decides to seize the opportunity and joins the interesting martial arts competition. As the tournament commences and Garou continues his rampage, a new great menace reveals itself, threatening the entire human world. Could this finally be the earth-shattering catastrophe predicted by the great seer Madame Shibabawa?</td>\n",
       "    </tr>\n",
       "    <tr>\n",
       "      <th>6</th>\n",
       "      <td>4</td>\n",
       "      <td>Akame ga Kill!</td>\n",
       "      <td>Action, Adventure, Drama, Fantasy, Shounen</td>\n",
       "      <td>Night Raid is the covert assassination branch of the Revolutionary Army, an uprising assembled to overthrow Prime Minister Honest, whose avarice and greed for power has led him to take advantage of the child emperor's inexperience. Without a strong and benevolent leader, the rest of the nation is left to drown in poverty, strife, and ruin. Though the Night Raid members are all experienced killers, they understand that taking lives is far from commendable and that they will likely face retribution as they mercilessly eliminate anyone who stands in the revolution's way. This merry band of assassins' newest member is Tatsumi, a naïve boy from a remote village who had embarked on a journey to help his impoverished hometown and was won over by not only Night Raid's ideals, but also their resolve. Akame ga Kill! follows Tatsumi as he fights the Empire and comes face-to-face with powerful weapons, enemy assassins, challenges to his own morals and values, and ultimately, what it truly means to be an assassin with a cause.</td>\n",
       "    </tr>\n",
       "    <tr>\n",
       "      <th>7</th>\n",
       "      <td>4</td>\n",
       "      <td>Rascal Does Not Dream of Bunny Girl Senpai</td>\n",
       "      <td>Comedy, Supernatural, Drama, Romance, School</td>\n",
       "      <td>The rare and inexplicable Puberty Syndrome is thought of as a myth. It is a rare disease which only affects teenagers, and its symptoms are so supernatural that hardly anyone recognizes it as a legitimate occurrence. However, high school student Sakuta Azusagawa knows from personal experience that it is very much real, and happens to be quite prevalent in his school. Mai Sakurajima is a third-year high school student who gained fame in her youth as a child actress, but recently halted her promising career for reasons unknown to the public. With an air of unapproachability, she is well known throughout the school, but none dare interact with her—that is until Sakuta sees her wandering the library in a bunny girl costume. Despite the getup, no one seems to notice her, and after confronting her, he realizes that she is another victim of Puberty Syndrome. As Sakuta tries to help Mai through her predicament, his actions bring him into contact with more girls afflicted with the elusive disease.</td>\n",
       "    </tr>\n",
       "    <tr>\n",
       "      <th>8</th>\n",
       "      <td>4</td>\n",
       "      <td>Wotakoi:Love is Hard for Otaku</td>\n",
       "      <td>Comedy, Romance, Slice of Life</td>\n",
       "      <td>Having slept through all four of her alarms, the energetic Narumi Momose finds herself running late for her first day of work at a new office. As she races to catch her train, she makes a promise to herself that none of her coworkers will find out about her dark secret: that she is an otaku and a fujoshi. Her plan goes instantly awry, though, when she runs into Hirotaka Nifuji, an old friend from middle school. Although she tries to keep her secret by inviting him out for drinks after work, her cover is blown when he casually asks her whether or not she will be attending the upcoming Summer Comiket. Luckily for her, the only witnesses—Hanako Koyanagi and Tarou Kabakura—are otaku as well. Later that night, the pair go out for drinks so that they can catch up after all the years apart. After Narumi complains about her previous boyfriend breaking up with her because he refused to date a fujoshi, Hirotaka suggests that she try dating a fellow otaku, specifically himself. He makes a solemn promise to always be there for her, to support her, and to help her farm for rare drops in Monster Hunter. Blown away by the proposal, Narumi agrees immediately. Thus the two otaku start dating, and their adorably awkward romance begins.</td>\n",
       "    </tr>\n",
       "    <tr>\n",
       "      <th>9</th>\n",
       "      <td>3</td>\n",
       "      <td>Digimon Fusion</td>\n",
       "      <td>Action, Adventure, Fantasy, Comedy, Shounen</td>\n",
       "      <td>urning to the Digital World, Taiki and Shoutmon learn that the Bagra Army has taken it over and reformatted the world to have Seven Kingdoms, each ruled by a general. (Source: AniDB)</td>\n",
       "    </tr>\n",
       "  </tbody>\n",
       "</table>\n",
       "</div>"
      ],
      "text/plain": [
       "   n                                  anime_name  \\\n",
       "0  4                                        GATE   \n",
       "1  4                       Great Teacher Onizuka   \n",
       "2  4                                  Fairy Tail   \n",
       "3  4                 Kuroko's Basketball Special   \n",
       "4  4                                      Bleach   \n",
       "5  4                    One Punch Man 2nd Season   \n",
       "6  4                              Akame ga Kill!   \n",
       "7  4  Rascal Does Not Dream of Bunny Girl Senpai   \n",
       "8  4              Wotakoi:Love is Hard for Otaku   \n",
       "9  3                              Digimon Fusion   \n",
       "\n",
       "                                                          Genres  \\\n",
       "0                           Action, Military, Adventure, Fantasy   \n",
       "1                  Slice of Life, Comedy, Drama, School, Shounen   \n",
       "2             Action, Adventure, Comedy, Magic, Fantasy, Shounen   \n",
       "3                                Sports, Comedy, School, Shounen   \n",
       "4  Action, Adventure, Comedy, Super Power, Supernatural, Shounen   \n",
       "5      Action, Sci-Fi, Comedy, Parody, Super Power, Supernatural   \n",
       "6                     Action, Adventure, Drama, Fantasy, Shounen   \n",
       "7                   Comedy, Supernatural, Drama, Romance, School   \n",
       "8                                 Comedy, Romance, Slice of Life   \n",
       "9                    Action, Adventure, Fantasy, Comedy, Shounen   \n",
       "\n",
       "                                                                                                                                                                                                                                                                                                                                                                                                                                                                                                                                                                                                                                                                                                                                                                                                                                                                                                                                                                                                                                                                                                                                                                                                                                                                                                                                                  sypnopsis  \n",
       "0                                                                                                                                                                                                                                                                                                                                                                                                                                                                                                                                      Several months have passed since the infamous Ginza Incident, with tensions between the Empire and JSDF escalating in the vast and mysterious \"Special Region\" over peace negotiations. The greed and curiosity of the global powers have also begun to grow, as reports about the technological limitations of the magical realm's archaic civilizations come to light. Meanwhile, Lieutenant Youji Itami and his merry band of female admirers struggle to navigate the complex political intrigue that plagues the Empire's court. Despite her best efforts, Princess Piña Co Lada faces difficulties attempting to convince her father that the JSDF has no intention of conquering their kingdom. Pressured from both sides of the Gate, Itami must consider even more drastic measures to fulfill his mission.  \n",
       "1  Twenty-two-year-old Eikichi Onizuka—ex-biker gang leader, conqueror of Shonan, and virgin—has a dream: to become the greatest high school teacher in all of Japan. This isn't because of a passion for teaching, but because he wants a loving teenage wife when he's old and gray. Still, for a perverted, greedy, and lazy delinquent, there is more to Onizuka than meets the eye. So when he lands a job as the homeroom teacher of the Class 3-4 at the prestigious Holy Forest Academy—despite suplexing the Vice Principal—all of his talents are put to the test, as this class is particularly infamous. Due to their utter contempt for all teachers, the class' students use psychological warfare to mentally break any new homeroom teacher they get, forcing them to quit and leave school. However, Onizuka isn't your average teacher, and he's ready for any challenge in his way. Bullying, suicide, and sexual harassment are just a few of the issues his students face daily. By tackling the roots of their problems, Onizuka supports them with his unpredictable and unconventional methods—even if it means jumping off a building to save a suicidal child. Thanks to his eccentric charm and fun-loving nature, Class 3-4 slowly learns just how enjoyable school can be when you're the pupils of the Great Teacher Onizuka.  \n",
       "2                                                                                                                                                                                                                                     In the mystical land of Fiore, magic exists as an essential part of everyday life. Countless magic guilds lie at the core of all magical activity, and serve as venues for like-minded mages to band together and take on job requests. Among them, Fairy Tail stands out from the rest as a place of strength, spirit, and family. Lucy Heartfilia is a young mage searching for celestial gate keys, and her dream is to become a full-fledged wizard by joining this famous guild. In her search, she runs into Natsu Dragneel and his partner Happy, who are on a quest to find Natsu's foster father, the dragon Igneel. Upon being tricked by a man, Lucy falls under an abduction attempt, only to be saved by Natsu. To her shock, he reveals that he is a member of Fairy Tail and invites her to join them. There, Lucy meets the guild's strange members, such as the ice wizard Gray Fullbuster and magic swordswoman Erza Scarlet. Together as a family, they battle the forces of evil, help those in need, and gain new friends, all the while enjoying the never-ending adventure that is Fairy Tail.  \n",
       "3                                                                                                                                                                                                                                                                                                                                                                                                                                                                                                                                                                                                                                                                                                                                                                                                                                                                                                                                                                                                                                                                                                                                                                                                                            Episode 22.5 bundled with BD/DVD volume 8. The episode covers Kuroko's past, when he was part of the \"Generation of Miracles.\"  \n",
       "4                                                                                                                                                                                                                                                                                                                                                                                                                           Ichigo Kurosaki is an ordinary high schooler—until his family is attacked by a Hollow, a corrupt spirit that seeks to devour human souls. It is then that he meets a Soul Reaper named Rukia Kuchiki, who gets injured while protecting Ichigo's family from the assailant. To save his family, Ichigo accepts Rukia's offer of taking her powers and becomes a Soul Reaper as a result. However, as Rukia is unable to regain her powers, Ichigo is given the daunting task of hunting down the Hollows that plague their town. However, he is not alone in his fight, as he is later joined by his friends—classmates Orihime Inoue, Yasutora Sado, and Uryuu Ishida—who each have their own unique abilities. As Ichigo and his comrades get used to their new duties and support each other on and off the battlefield, the young Soul Reaper soon learns that the Hollows are not the only real threat to the human world.  \n",
       "5                                                                 In the wake of defeating Boros and his mighty army, Saitama has returned to his unremarkable everyday life in Z-City. However, unbeknownst to him, the number of monsters appearing is still continuously on the rise, putting a strain on the Hero Association’s resources. Their top executives decide on the bold move of recruiting hoodlums in order to help in their battle. But during the first meeting with these potential newcomers, a mysterious man calling himself Garou makes his appearance. Claiming to be a monster, he starts mercilessly attacking the crowd. The mysterious Garou continues his rampage against the Hero Association, crushing every hero he encounters. He turns out to be the legendary martial artist Silverfang’s best former disciple and seems driven by unknown motives. Regardless, this beast of a man seems unstoppable. Intrigued by this puzzling new foe and with an insatiable thirst for money, Saitama decides to seize the opportunity and joins the interesting martial arts competition. As the tournament commences and Garou continues his rampage, a new great menace reveals itself, threatening the entire human world. Could this finally be the earth-shattering catastrophe predicted by the great seer Madame Shibabawa?  \n",
       "6                                                                                                                                                                                                                                                                                     Night Raid is the covert assassination branch of the Revolutionary Army, an uprising assembled to overthrow Prime Minister Honest, whose avarice and greed for power has led him to take advantage of the child emperor's inexperience. Without a strong and benevolent leader, the rest of the nation is left to drown in poverty, strife, and ruin. Though the Night Raid members are all experienced killers, they understand that taking lives is far from commendable and that they will likely face retribution as they mercilessly eliminate anyone who stands in the revolution's way. This merry band of assassins' newest member is Tatsumi, a naïve boy from a remote village who had embarked on a journey to help his impoverished hometown and was won over by not only Night Raid's ideals, but also their resolve. Akame ga Kill! follows Tatsumi as he fights the Empire and comes face-to-face with powerful weapons, enemy assassins, challenges to his own morals and values, and ultimately, what it truly means to be an assassin with a cause.  \n",
       "7                                                                                                                                                                                                                                                                                                               The rare and inexplicable Puberty Syndrome is thought of as a myth. It is a rare disease which only affects teenagers, and its symptoms are so supernatural that hardly anyone recognizes it as a legitimate occurrence. However, high school student Sakuta Azusagawa knows from personal experience that it is very much real, and happens to be quite prevalent in his school. Mai Sakurajima is a third-year high school student who gained fame in her youth as a child actress, but recently halted her promising career for reasons unknown to the public. With an air of unapproachability, she is well known throughout the school, but none dare interact with her—that is until Sakuta sees her wandering the library in a bunny girl costume. Despite the getup, no one seems to notice her, and after confronting her, he realizes that she is another victim of Puberty Syndrome. As Sakuta tries to help Mai through her predicament, his actions bring him into contact with more girls afflicted with the elusive disease.  \n",
       "8                                                                     Having slept through all four of her alarms, the energetic Narumi Momose finds herself running late for her first day of work at a new office. As she races to catch her train, she makes a promise to herself that none of her coworkers will find out about her dark secret: that she is an otaku and a fujoshi. Her plan goes instantly awry, though, when she runs into Hirotaka Nifuji, an old friend from middle school. Although she tries to keep her secret by inviting him out for drinks after work, her cover is blown when he casually asks her whether or not she will be attending the upcoming Summer Comiket. Luckily for her, the only witnesses—Hanako Koyanagi and Tarou Kabakura—are otaku as well. Later that night, the pair go out for drinks so that they can catch up after all the years apart. After Narumi complains about her previous boyfriend breaking up with her because he refused to date a fujoshi, Hirotaka suggests that she try dating a fellow otaku, specifically himself. He makes a solemn promise to always be there for her, to support her, and to help her farm for rare drops in Monster Hunter. Blown away by the proposal, Narumi agrees immediately. Thus the two otaku start dating, and their adorably awkward romance begins.  \n",
       "9                                                                                                                                                                                                                                                                                                                                                                                                                                                                                                                                                                                                                                                                                                                                                                                                                                                                                                                                                                                                                                                                                                                                                                    urning to the Digital World, Taiki and Shoutmon learn that the Bagra Army has taken it over and reformatted the world to have Seven Kingdoms, each ruled by a general. (Source: AniDB)  "
      ]
     },
     "execution_count": 34,
     "metadata": {},
     "output_type": "execute_result"
    }
   ],
   "source": [
    "recommended_animes = get_recommended_animes(similar_users, n=10)\n",
    "getFavGenre(recommended_animes, plot=True)\n",
    "\n",
    "print('\\n> Top recommendations for user: {}'.format(random_user))\n",
    "recommended_animes"
   ]
  },
  {
   "cell_type": "markdown",
   "id": "b854d95a",
   "metadata": {
    "papermill": {
     "duration": 0.22636,
     "end_time": "2023-05-17T06:56:28.647592",
     "exception": false,
     "start_time": "2023-05-17T06:56:28.421232",
     "status": "completed"
    },
    "tags": []
   },
   "source": [
    "## **Ranking based Recommendation**"
   ]
  },
  {
   "cell_type": "code",
   "execution_count": 35,
   "id": "7d44f17d",
   "metadata": {
    "execution": {
     "iopub.execute_input": "2023-05-17T06:56:29.125671Z",
     "iopub.status.busy": "2023-05-17T06:56:29.125297Z",
     "iopub.status.idle": "2023-05-17T06:56:35.460511Z",
     "shell.execute_reply": "2023-05-17T06:56:35.458797Z"
    },
    "papermill": {
     "duration": 6.582143,
     "end_time": "2023-05-17T06:56:35.462773",
     "exception": false,
     "start_time": "2023-05-17T06:56:28.880630",
     "status": "completed"
    },
    "tags": []
   },
   "outputs": [
    {
     "name": "stdout",
     "output_type": "stream",
     "text": [
      "Showing recommendations for user: 323306\n",
      "===========================================================================\n",
      "534/534 [==============================] - 0s 615us/step\n",
      "---------------------------------------------------------------------------\n",
      "> Top 10 anime recommendations\n",
      "---------------------------------------------------------------------------\n"
     ]
    },
    {
     "data": {
      "text/html": [
       "<div>\n",
       "<style scoped>\n",
       "    .dataframe tbody tr th:only-of-type {\n",
       "        vertical-align: middle;\n",
       "    }\n",
       "\n",
       "    .dataframe tbody tr th {\n",
       "        vertical-align: top;\n",
       "    }\n",
       "\n",
       "    .dataframe thead th {\n",
       "        text-align: right;\n",
       "    }\n",
       "</style>\n",
       "<table border=\"1\" class=\"dataframe\">\n",
       "  <thead>\n",
       "    <tr style=\"text-align: right;\">\n",
       "      <th></th>\n",
       "      <th>name</th>\n",
       "      <th>pred_rating</th>\n",
       "      <th>genre</th>\n",
       "      <th>sypnopsis</th>\n",
       "    </tr>\n",
       "  </thead>\n",
       "  <tbody>\n",
       "    <tr>\n",
       "      <th>3</th>\n",
       "      <td>Food Wars! The Third Plate:Totsuki Train Arc</td>\n",
       "      <td>0.849760</td>\n",
       "      <td>Ecchi, School, Shounen</td>\n",
       "      <td>dark age of cooking befalls Tootsuki Culinary Academy. With the Elite Ten's devastating coup d'état, Azami Nakiri is now the director of the prestigious school. Students must now conform to Azami's ideology of \"true gourmet food\" and are forbidden to express creativity, or else face expulsion. However, Souma Yukihira and the members of the Polar Star Dormitory refuse to accept these changes. Aided by other rebellious first-years, including the tenth seat, Erina Nakiri, Souma and his allies band together to fight off supporters of Azami's regime. But corrupt instructors and the menacing Central organization stand in their way, and so they must work together, harder than ever before, to survive every underhanded plot designed to banish them from the school.</td>\n",
       "    </tr>\n",
       "    <tr>\n",
       "      <th>9</th>\n",
       "      <td>Kuroko no Basket Movie 4: Last Game</td>\n",
       "      <td>0.839758</td>\n",
       "      <td>Sports, School, Shounen</td>\n",
       "      <td>Hailing from America, Jabberwock—a street basketball team with skills comparable to those of the NBA—has come to Japan to play an exhibition match against Strky, a team of former third-year students who once played in the Interhigh and Winter Cup. However, due to the vast difference in skill, Jabberwock easily wins. Their captain, Nash Gold Jr., mocks the basketball style of all players in Japan by comparing them to monkeys. Infuriated by the nasty comment, Kagetora Aida challenges them to a revenge match. Because of pride and the belief that the results will be no different, Nash accepts the challenge. Kagetora then assembles Vorpal Swords, a team composed of the Generation of Miracles, including Kuroko Tetsuya and Kagami Taiga, for they are the only ones who stand a chance against a foe that seems unbeatable from every angle.</td>\n",
       "    </tr>\n",
       "    <tr>\n",
       "      <th>4</th>\n",
       "      <td>Is It Wrong to Try to Pick Up Girls in a Dungeon? II</td>\n",
       "      <td>0.837024</td>\n",
       "      <td>Action, Adventure, Comedy, Romance, Fantasy</td>\n",
       "      <td>It is business as usual in the massive city of Orario, where legions of adventurers gather to explore the monster-infested \"Dungeon.\" Among them is the easily flustered yet brave Bell Cranel, the sole member of the Hestia Familia. With the help of his demi-human supporter Liliruca Arde and competent blacksmith Welf Crozzo, Bell has earned the title of Little Rookie by becoming Orario's fastest-growing adventurer thanks to his endeavors within the deeper levels of the Dungeon. Dungeon ni Deai wo Motomeru no wa Machigatteiru Darou ka II continues Bell's adventures as he tries to bring glory to his goddess and protect those he cares about. However, various familias and gods across the city begin to take notice of his achievements and attempt to add him to their ranks.</td>\n",
       "    </tr>\n",
       "    <tr>\n",
       "      <th>0</th>\n",
       "      <td>ONE PIECE FILM GOLD 〜episode 0〜 711ver.</td>\n",
       "      <td>0.835889</td>\n",
       "      <td>Action, Adventure, Comedy, Super Power, Fantasy, Shounen</td>\n",
       "      <td>short prequel to One Piece Film: Gold featuring the nine Straw hat crew members on the ship, planning what to do when they arrive the Casino.</td>\n",
       "    </tr>\n",
       "    <tr>\n",
       "      <th>5</th>\n",
       "      <td>High School DxD Hero: Taiikukan-ura no Holy</td>\n",
       "      <td>0.832468</td>\n",
       "      <td>Action, Comedy, Demons, Ecchi, Harem, Romance, School</td>\n",
       "      <td>lternative version of final four episodes of High School DxD BorN .</td>\n",
       "    </tr>\n",
       "    <tr>\n",
       "      <th>1</th>\n",
       "      <td>Food Wars! The Third Plate</td>\n",
       "      <td>0.827273</td>\n",
       "      <td>Ecchi, School, Shounen</td>\n",
       "      <td>The Moon Festival is Tootsuki Academy's annual gourmet gala, where students compete against each other to earn the most profit through selling their cuisine of choice. But for Souma Yukihira, it is also his first opportunity to challenge the Elite Ten, the supreme council that rules over the academy. However, this is only the beginning of Souma's war against the Elite Ten; a nefarious plot is underway that will provide Souma with the challenge he desires but will also shake the very foundations of Tootsuki Academy itself.</td>\n",
       "    </tr>\n",
       "    <tr>\n",
       "      <th>2</th>\n",
       "      <td>Recovery of an MMO Junkie Special</td>\n",
       "      <td>0.824547</td>\n",
       "      <td>Game, Comedy, Romance</td>\n",
       "      <td>uch to her dismay, Moriko Morioka's computer has broken down. However, not all is lost as she remembers that Yuuta Sakurai is a computer geek, leading Morioka to seek his expertise. But when Sakurai visits to help build her a new computer, hilarity ensues.</td>\n",
       "    </tr>\n",
       "    <tr>\n",
       "      <th>8</th>\n",
       "      <td>The Last:Naruto the Movie</td>\n",
       "      <td>0.823962</td>\n",
       "      <td>Action, Super Power, Romance, Martial Arts, Shounen</td>\n",
       "      <td>Two years have passed since the end of the Fourth Great Ninja War. Konohagakure has remained in a state of peace and harmony—until Sixth Hokage Kakashi Hatake notices the moon is dangerously approaching the Earth, posing the threat of planetary ruin. Amidst the grave ordeal, the Konoha is invaded by a new evil, Toneri Oosutuski, who suddenly abducts Hinata Hyuuga's little sister Hanabi. Kakashi dispatches a skilled ninja team comprised of Naruto Uzumaki, Sakura Haruno, Shikamaru Nara, Sai, and Hinata in an effort to rescue Hanabi from the diabolical clutches of Toneri. However, during their mission, the team faces several obstacles that challenge them, foiling their efforts. With her abduction, the relationships the team share with one another are tested, and with the world reaching the brink of destruction, they must race against time to ensure the safety of their planet. Meanwhile, as the battle ensues, Naruto is driven to fight for something greater than he has ever imagined—love.</td>\n",
       "    </tr>\n",
       "    <tr>\n",
       "      <th>7</th>\n",
       "      <td>Haikyuu!!: Riku vs. Kuu</td>\n",
       "      <td>0.821867</td>\n",
       "      <td>Comedy, Sports, Drama, School, Shounen</td>\n",
       "      <td>se battle rages on at the Tokyo Qualifiers for the three remaining spots in the national volleyball competition. Nekoma High School, Fukurodani High School, Nohebi Academy, and Itachiyama Academy all passionately strive to participate in the tournament. Despite various issues on the court, Nekoma especially wishes to prove they are worthy of moving on to the national level. As the teams aim to secure their place by overcoming both their opponents and their own weaknesses, the Tokyo Qualifiers determine which teams will reign victorious and join the national competition.</td>\n",
       "    </tr>\n",
       "    <tr>\n",
       "      <th>6</th>\n",
       "      <td>Fate/Grand Order: Zettai Majuu Sensen Babylonia - Initium Iter</td>\n",
       "      <td>0.816753</td>\n",
       "      <td>Action, Supernatural, Magic, Fantasy</td>\n",
       "      <td>The year 2010 AD. Romani Archaman has been posted to Chaldea. There, he becomes the primary doctor for a young girl. Mash Kyrielight, Chaldea's second successful summoning experiment, is interested in the word \"Senpai.\" The interaction between the two gives Mash a reason to hope. That hope becomes a wave and starts to spread. That is your story, the story of a normal \"somebody.\" The story at the beginning of a journey that weaves the future. (Source: AniplexUS)</td>\n",
       "    </tr>\n",
       "  </tbody>\n",
       "</table>\n",
       "</div>"
      ],
      "text/plain": [
       "                                                             name  \\\n",
       "3                    Food Wars! The Third Plate:Totsuki Train Arc   \n",
       "9                             Kuroko no Basket Movie 4: Last Game   \n",
       "4            Is It Wrong to Try to Pick Up Girls in a Dungeon? II   \n",
       "0                         ONE PIECE FILM GOLD 〜episode 0〜 711ver.   \n",
       "5                     High School DxD Hero: Taiikukan-ura no Holy   \n",
       "1                                      Food Wars! The Third Plate   \n",
       "2                               Recovery of an MMO Junkie Special   \n",
       "8                                       The Last:Naruto the Movie   \n",
       "7                                         Haikyuu!!: Riku vs. Kuu   \n",
       "6  Fate/Grand Order: Zettai Majuu Sensen Babylonia - Initium Iter   \n",
       "\n",
       "   pred_rating                                                     genre  \\\n",
       "3     0.849760                                    Ecchi, School, Shounen   \n",
       "9     0.839758                                   Sports, School, Shounen   \n",
       "4     0.837024               Action, Adventure, Comedy, Romance, Fantasy   \n",
       "0     0.835889  Action, Adventure, Comedy, Super Power, Fantasy, Shounen   \n",
       "5     0.832468     Action, Comedy, Demons, Ecchi, Harem, Romance, School   \n",
       "1     0.827273                                    Ecchi, School, Shounen   \n",
       "2     0.824547                                     Game, Comedy, Romance   \n",
       "8     0.823962       Action, Super Power, Romance, Martial Arts, Shounen   \n",
       "7     0.821867                    Comedy, Sports, Drama, School, Shounen   \n",
       "6     0.816753                      Action, Supernatural, Magic, Fantasy   \n",
       "\n",
       "                                                                                                                                                                                                                                                                                                                                                                                                                                                                                                                                                                                                                                                                                                                                                                                                                                                                                                                                                                                                                                sypnopsis  \n",
       "3                                                                                                                                                                                                                                           dark age of cooking befalls Tootsuki Culinary Academy. With the Elite Ten's devastating coup d'état, Azami Nakiri is now the director of the prestigious school. Students must now conform to Azami's ideology of \"true gourmet food\" and are forbidden to express creativity, or else face expulsion. However, Souma Yukihira and the members of the Polar Star Dormitory refuse to accept these changes. Aided by other rebellious first-years, including the tenth seat, Erina Nakiri, Souma and his allies band together to fight off supporters of Azami's regime. But corrupt instructors and the menacing Central organization stand in their way, and so they must work together, harder than ever before, to survive every underhanded plot designed to banish them from the school.  \n",
       "9                                                                                                                                                                 Hailing from America, Jabberwock—a street basketball team with skills comparable to those of the NBA—has come to Japan to play an exhibition match against Strky, a team of former third-year students who once played in the Interhigh and Winter Cup. However, due to the vast difference in skill, Jabberwock easily wins. Their captain, Nash Gold Jr., mocks the basketball style of all players in Japan by comparing them to monkeys. Infuriated by the nasty comment, Kagetora Aida challenges them to a revenge match. Because of pride and the belief that the results will be no different, Nash accepts the challenge. Kagetora then assembles Vorpal Swords, a team composed of the Generation of Miracles, including Kuroko Tetsuya and Kagami Taiga, for they are the only ones who stand a chance against a foe that seems unbeatable from every angle.  \n",
       "4                                                                                                                                                                                                                                 It is business as usual in the massive city of Orario, where legions of adventurers gather to explore the monster-infested \"Dungeon.\" Among them is the easily flustered yet brave Bell Cranel, the sole member of the Hestia Familia. With the help of his demi-human supporter Liliruca Arde and competent blacksmith Welf Crozzo, Bell has earned the title of Little Rookie by becoming Orario's fastest-growing adventurer thanks to his endeavors within the deeper levels of the Dungeon. Dungeon ni Deai wo Motomeru no wa Machigatteiru Darou ka II continues Bell's adventures as he tries to bring glory to his goddess and protect those he cares about. However, various familias and gods across the city begin to take notice of his achievements and attempt to add him to their ranks.  \n",
       "0                                                                                                                                                                                                                                                                                                                                                                                                                                                                                                                                                                                                                                                                                                                                                                                                                                                                                           short prequel to One Piece Film: Gold featuring the nine Straw hat crew members on the ship, planning what to do when they arrive the Casino.  \n",
       "5                                                                                                                                                                                                                                                                                                                                                                                                                                                                                                                                                                                                                                                                                                                                                                                                                                                                                                                                                                     lternative version of final four episodes of High School DxD BorN .  \n",
       "1                                                                                                                                                                                                                                                                                                                                                                                                                                                                                         The Moon Festival is Tootsuki Academy's annual gourmet gala, where students compete against each other to earn the most profit through selling their cuisine of choice. But for Souma Yukihira, it is also his first opportunity to challenge the Elite Ten, the supreme council that rules over the academy. However, this is only the beginning of Souma's war against the Elite Ten; a nefarious plot is underway that will provide Souma with the challenge he desires but will also shake the very foundations of Tootsuki Academy itself.  \n",
       "2                                                                                                                                                                                                                                                                                                                                                                                                                                                                                                                                                                                                                                                                                                                                                                        uch to her dismay, Moriko Morioka's computer has broken down. However, not all is lost as she remembers that Yuuta Sakurai is a computer geek, leading Morioka to seek his expertise. But when Sakurai visits to help build her a new computer, hilarity ensues.  \n",
       "8  Two years have passed since the end of the Fourth Great Ninja War. Konohagakure has remained in a state of peace and harmony—until Sixth Hokage Kakashi Hatake notices the moon is dangerously approaching the Earth, posing the threat of planetary ruin. Amidst the grave ordeal, the Konoha is invaded by a new evil, Toneri Oosutuski, who suddenly abducts Hinata Hyuuga's little sister Hanabi. Kakashi dispatches a skilled ninja team comprised of Naruto Uzumaki, Sakura Haruno, Shikamaru Nara, Sai, and Hinata in an effort to rescue Hanabi from the diabolical clutches of Toneri. However, during their mission, the team faces several obstacles that challenge them, foiling their efforts. With her abduction, the relationships the team share with one another are tested, and with the world reaching the brink of destruction, they must race against time to ensure the safety of their planet. Meanwhile, as the battle ensues, Naruto is driven to fight for something greater than he has ever imagined—love.  \n",
       "7                                                                                                                                                                                                                                                                                                                                                                                                                                        se battle rages on at the Tokyo Qualifiers for the three remaining spots in the national volleyball competition. Nekoma High School, Fukurodani High School, Nohebi Academy, and Itachiyama Academy all passionately strive to participate in the tournament. Despite various issues on the court, Nekoma especially wishes to prove they are worthy of moving on to the national level. As the teams aim to secure their place by overcoming both their opponents and their own weaknesses, the Tokyo Qualifiers determine which teams will reign victorious and join the national competition.  \n",
       "6                                                                                                                                                                                                                                                                                                                                                                                                                                                                                                                                                       The year 2010 AD. Romani Archaman has been posted to Chaldea. There, he becomes the primary doctor for a young girl. Mash Kyrielight, Chaldea's second successful summoning experiment, is interested in the word \"Senpai.\" The interaction between the two gives Mash a reason to hope. That hope becomes a wave and starts to spread. That is your story, the story of a normal \"somebody.\" The story at the beginning of a journey that weaves the future. (Source: AniplexUS)  "
      ]
     },
     "execution_count": 35,
     "metadata": {},
     "output_type": "execute_result"
    }
   ],
   "source": [
    "print(\"Showing recommendations for user: {}\".format(random_user))\n",
    "print(\"===\" * 25)\n",
    "\n",
    "animes_watched_by_user = rating_df[rating_df.user_id==random_user]\n",
    "anime_not_watched_df = df[\n",
    "    ~df[\"anime_id\"].isin(animes_watched_by_user.anime_id.values)\n",
    "]\n",
    "\n",
    "anime_not_watched = list(\n",
    "    set(anime_not_watched_df['anime_id']).intersection(set(anime2anime_encoded.keys()))\n",
    ")\n",
    "\n",
    "anime_not_watched = [[anime2anime_encoded.get(x)] for x in anime_not_watched]\n",
    "\n",
    "user_encoder = user2user_encoded.get(random_user)\n",
    "\n",
    "user_anime_array = np.hstack(\n",
    "    ([[user_encoder]] * len(anime_not_watched), anime_not_watched)\n",
    ")\n",
    "\n",
    "user_anime_array = [user_anime_array[:, 0], user_anime_array[:, 1]]\n",
    "ratings = model.predict(user_anime_array).flatten()\n",
    "\n",
    "top_ratings_indices = (-ratings).argsort()[:10]\n",
    "\n",
    "recommended_anime_ids = [\n",
    "    anime_encoded2anime.get(anime_not_watched[x][0]) for x in top_ratings_indices\n",
    "]\n",
    "\n",
    "Results = []\n",
    "top_rated_ids = []\n",
    "\n",
    "for index, anime_id in enumerate(anime_not_watched):\n",
    "    rating = ratings[index]\n",
    "    id_ = anime_encoded2anime.get(anime_id[0])\n",
    "    \n",
    "    if id_ in recommended_anime_ids:\n",
    "        top_rated_ids.append(id_)\n",
    "        try:\n",
    "            condition = (df.anime_id == id_)\n",
    "            name = df[condition]['eng_version'].values[0]\n",
    "            genre = df[condition].Genres.values[0]\n",
    "            score = df[condition].Score.values[0]\n",
    "            sypnopsis = getSypnopsis(int(id_))\n",
    "        except:\n",
    "            continue\n",
    "            \n",
    "        Results.append({#\"anime_id\": id_, \n",
    "                        \"name\": name, \n",
    "                        \"pred_rating\": rating,\n",
    "                        \"genre\": genre, \n",
    "                        'sypnopsis': sypnopsis})\n",
    "\n",
    "print(\"---\" * 25)\n",
    "print(\"> Top 10 anime recommendations\")\n",
    "print(\"---\" * 25)\n",
    "\n",
    "\n",
    "Results = pd.DataFrame(Results).sort_values(by='pred_rating', ascending=False)\n",
    "Results"
   ]
  },
  {
   "cell_type": "code",
   "execution_count": 36,
   "id": "7420eab2",
   "metadata": {
    "execution": {
     "iopub.execute_input": "2023-05-17T06:56:36.012619Z",
     "iopub.status.busy": "2023-05-17T06:56:36.012177Z",
     "iopub.status.idle": "2023-05-17T06:56:36.493421Z",
     "shell.execute_reply": "2023-05-17T06:56:36.491777Z"
    },
    "papermill": {
     "duration": 0.798901,
     "end_time": "2023-05-17T06:56:36.496428",
     "exception": false,
     "start_time": "2023-05-17T06:56:35.697527",
     "status": "completed"
    },
    "tags": []
   },
   "outputs": [
    {
     "name": "stderr",
     "output_type": "stream",
     "text": [
      "C:\\Users\\subas\\anaconda3\\lib\\site-packages\\keras\\src\\engine\\training.py:3000: UserWarning: You are saving your model as an HDF5 file via `model.save()`. This file format is considered legacy. We recommend using instead the native Keras format, e.g. `model.save('my_model.keras')`.\n",
      "  saving_api.save_model(\n"
     ]
    },
    {
     "data": {
      "text/html": [
       "<a href='./anime_model.h5' target='_blank'>./anime_model.h5</a><br>"
      ],
      "text/plain": [
       "C:\\Users\\subas\\anime_model.h5"
      ]
     },
     "execution_count": 36,
     "metadata": {},
     "output_type": "execute_result"
    }
   ],
   "source": [
    "model.save('anime_model.h5')\n",
    "\n",
    "from IPython.display import FileLink\n",
    "FileLink(r'./anime_model.h5')"
   ]
  },
  {
   "cell_type": "code",
   "execution_count": 43,
   "id": "94b1ee86",
   "metadata": {},
   "outputs": [
    {
     "name": "stdout",
     "output_type": "stream",
     "text": [
      "313/313 [==============================] - 1s 2ms/step\n",
      "RMSE Score:  0.29581807081742884\n"
     ]
    }
   ],
   "source": [
    "from sklearn.metrics import mean_squared_error\n",
    "\n",
    "# Assuming 'model' is your trained model, and 'X_test_array', 'y_test' are your test data\n",
    "\n",
    "# Generate predictions for the test data\n",
    "y_pred = model.predict(X_test_array).flatten()\n",
    "\n",
    "# Calculate the RMSE score\n",
    "rmse_score = np.sqrt(mean_squared_error(y_test, y_pred))\n",
    "\n",
    "print(\"RMSE Score: \", rmse_score)"
   ]
  }
 ],
 "metadata": {
  "kernelspec": {
   "display_name": "Python 3 (ipykernel)",
   "language": "python",
   "name": "python3"
  },
  "language_info": {
   "codemirror_mode": {
    "name": "ipython",
    "version": 3
   },
   "file_extension": ".py",
   "mimetype": "text/x-python",
   "name": "python",
   "nbconvert_exporter": "python",
   "pygments_lexer": "ipython3",
   "version": "3.9.13"
  },
  "papermill": {
   "default_parameters": {},
   "duration": 493.478292,
   "end_time": "2023-05-17T06:56:40.777263",
   "environment_variables": {},
   "exception": null,
   "input_path": "__notebook__.ipynb",
   "output_path": "__notebook__.ipynb",
   "parameters": {},
   "start_time": "2023-05-17T06:48:27.298971",
   "version": "2.4.0"
  }
 },
 "nbformat": 4,
 "nbformat_minor": 5
}
